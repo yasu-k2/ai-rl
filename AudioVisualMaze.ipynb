{
  "nbformat": 4,
  "nbformat_minor": 0,
  "metadata": {
    "colab": {
      "name": "AudioVisualMaze.ipynb",
      "provenance": [],
      "collapsed_sections": [],
      "authorship_tag": "ABX9TyMcwXYfK8Hwy7+AfRsI1Fym",
      "include_colab_link": true
    },
    "kernelspec": {
      "name": "python3",
      "display_name": "Python 3"
    },
    "language_info": {
      "name": "python"
    }
  },
  "cells": [
    {
      "cell_type": "markdown",
      "metadata": {
        "id": "view-in-github",
        "colab_type": "text"
      },
      "source": [
        "<a href=\"https://colab.research.google.com/github/yasu-k2/multimodal-active-inference/blob/main/AudioVisualMaze.ipynb\" target=\"_parent\"><img src=\"https://colab.research.google.com/assets/colab-badge.svg\" alt=\"Open In Colab\"/></a>"
      ]
    },
    {
      "cell_type": "code",
      "execution_count": 34,
      "metadata": {
        "colab": {
          "base_uri": "https://localhost:8080/"
        },
        "id": "iwJgFYGhbgpZ",
        "outputId": "c8d45c42-9314-4dda-e68f-9451060c7d72"
      },
      "outputs": [
        {
          "output_type": "stream",
          "name": "stdout",
          "text": [
            "Requirement already satisfied: pygame in /usr/local/lib/python3.7/dist-packages (2.1.2)\n",
            "Requirement already satisfied: inferactively-pymdp in /usr/local/lib/python3.7/dist-packages (0.0.4)\n",
            "Requirement already satisfied: xlsxwriter>=1.4.3 in /usr/local/lib/python3.7/dist-packages (from inferactively-pymdp) (3.0.3)\n",
            "Requirement already satisfied: iniconfig>=1.1.1 in /usr/local/lib/python3.7/dist-packages (from inferactively-pymdp) (1.1.1)\n",
            "Requirement already satisfied: sphinx-rtd-theme>=0.4 in /usr/local/lib/python3.7/dist-packages (from inferactively-pymdp) (1.0.0)\n",
            "Requirement already satisfied: pytest>=6.2.1 in /usr/local/lib/python3.7/dist-packages (from inferactively-pymdp) (7.1.1)\n",
            "Requirement already satisfied: pytz>=2020.5 in /usr/local/lib/python3.7/dist-packages (from inferactively-pymdp) (2022.1)\n",
            "Requirement already satisfied: seaborn>=0.11.1 in /usr/local/lib/python3.7/dist-packages (from inferactively-pymdp) (0.11.2)\n",
            "Requirement already satisfied: pyparsing>=2.4.7 in /usr/local/lib/python3.7/dist-packages (from inferactively-pymdp) (3.0.8)\n",
            "Requirement already satisfied: cycler>=0.10.0 in /usr/local/lib/python3.7/dist-packages (from inferactively-pymdp) (0.11.0)\n",
            "Requirement already satisfied: pandas>=1.2.4 in /usr/local/lib/python3.7/dist-packages (from inferactively-pymdp) (1.3.5)\n",
            "Requirement already satisfied: numpy>=1.19.5 in /usr/local/lib/python3.7/dist-packages (from inferactively-pymdp) (1.21.6)\n",
            "Requirement already satisfied: nose>=1.3.7 in /usr/local/lib/python3.7/dist-packages (from inferactively-pymdp) (1.3.7)\n",
            "Requirement already satisfied: six>=1.15.0 in /usr/local/lib/python3.7/dist-packages (from inferactively-pymdp) (1.15.0)\n",
            "Requirement already satisfied: python-dateutil>=2.8.1 in /usr/local/lib/python3.7/dist-packages (from inferactively-pymdp) (2.8.2)\n",
            "Requirement already satisfied: py>=1.10.0 in /usr/local/lib/python3.7/dist-packages (from inferactively-pymdp) (1.11.0)\n",
            "Requirement already satisfied: myst-nb>=0.13.1 in /usr/local/lib/python3.7/dist-packages (from inferactively-pymdp) (0.13.2)\n",
            "Requirement already satisfied: packaging>=20.8 in /usr/local/lib/python3.7/dist-packages (from inferactively-pymdp) (21.3)\n",
            "Requirement already satisfied: kiwisolver>=1.3.1 in /usr/local/lib/python3.7/dist-packages (from inferactively-pymdp) (1.4.2)\n",
            "Requirement already satisfied: attrs>=20.3.0 in /usr/local/lib/python3.7/dist-packages (from inferactively-pymdp) (21.4.0)\n",
            "Requirement already satisfied: typing-extensions>=3.7.4.3 in /usr/local/lib/python3.7/dist-packages (from inferactively-pymdp) (4.1.1)\n",
            "Requirement already satisfied: Pillow>=8.2.0pluggy>=0.13.1 in /usr/local/lib/python3.7/dist-packages (from inferactively-pymdp) (9.1.0)\n",
            "Requirement already satisfied: matplotlib>=3.1.3 in /usr/local/lib/python3.7/dist-packages (from inferactively-pymdp) (3.2.2)\n",
            "Requirement already satisfied: scipy>=1.6.0 in /usr/local/lib/python3.7/dist-packages (from inferactively-pymdp) (1.7.3)\n",
            "Requirement already satisfied: toml>=0.10.2 in /usr/local/lib/python3.7/dist-packages (from inferactively-pymdp) (0.10.2)\n",
            "Requirement already satisfied: openpyxl>=3.0.7 in /usr/local/lib/python3.7/dist-packages (from inferactively-pymdp) (3.0.9)\n",
            "Requirement already satisfied: jupyter-sphinx~=0.3.2 in /usr/local/lib/python3.7/dist-packages (from myst-nb>=0.13.1->inferactively-pymdp) (0.3.2)\n",
            "Requirement already satisfied: sphinx<5,>=3.1 in /usr/local/lib/python3.7/dist-packages (from myst-nb>=0.13.1->inferactively-pymdp) (4.5.0)\n",
            "Requirement already satisfied: jupyter-cache~=0.4.1 in /usr/local/lib/python3.7/dist-packages (from myst-nb>=0.13.1->inferactively-pymdp) (0.4.3)\n",
            "Requirement already satisfied: sphinx-togglebutton~=0.3.0 in /usr/local/lib/python3.7/dist-packages (from myst-nb>=0.13.1->inferactively-pymdp) (0.3.1)\n",
            "Requirement already satisfied: pyyaml in /usr/local/lib/python3.7/dist-packages (from myst-nb>=0.13.1->inferactively-pymdp) (3.13)\n",
            "Requirement already satisfied: importlib-metadata in /usr/local/lib/python3.7/dist-packages (from myst-nb>=0.13.1->inferactively-pymdp) (4.11.3)\n",
            "Requirement already satisfied: nbconvert<7,>=5.6 in /usr/local/lib/python3.7/dist-packages (from myst-nb>=0.13.1->inferactively-pymdp) (6.5.0)\n",
            "Requirement already satisfied: ipython in /usr/local/lib/python3.7/dist-packages (from myst-nb>=0.13.1->inferactively-pymdp) (5.5.0)\n",
            "Requirement already satisfied: docutils<0.18,>=0.15 in /usr/local/lib/python3.7/dist-packages (from myst-nb>=0.13.1->inferactively-pymdp) (0.17.1)\n",
            "Requirement already satisfied: myst-parser~=0.15.2 in /usr/local/lib/python3.7/dist-packages (from myst-nb>=0.13.1->inferactively-pymdp) (0.15.2)\n",
            "Requirement already satisfied: ipywidgets<8,>=7.0.0 in /usr/local/lib/python3.7/dist-packages (from myst-nb>=0.13.1->inferactively-pymdp) (7.7.0)\n",
            "Requirement already satisfied: nbformat~=5.0 in /usr/local/lib/python3.7/dist-packages (from myst-nb>=0.13.1->inferactively-pymdp) (5.3.0)\n",
            "Requirement already satisfied: ipython-genutils~=0.2.0 in /usr/local/lib/python3.7/dist-packages (from ipywidgets<8,>=7.0.0->myst-nb>=0.13.1->inferactively-pymdp) (0.2.0)\n",
            "Requirement already satisfied: widgetsnbextension~=3.6.0 in /usr/local/lib/python3.7/dist-packages (from ipywidgets<8,>=7.0.0->myst-nb>=0.13.1->inferactively-pymdp) (3.6.0)\n",
            "Requirement already satisfied: ipykernel>=4.5.1 in /usr/local/lib/python3.7/dist-packages (from ipywidgets<8,>=7.0.0->myst-nb>=0.13.1->inferactively-pymdp) (4.10.1)\n",
            "Requirement already satisfied: jupyterlab-widgets>=1.0.0 in /usr/local/lib/python3.7/dist-packages (from ipywidgets<8,>=7.0.0->myst-nb>=0.13.1->inferactively-pymdp) (1.1.0)\n",
            "Requirement already satisfied: traitlets>=4.3.1 in /usr/local/lib/python3.7/dist-packages (from ipywidgets<8,>=7.0.0->myst-nb>=0.13.1->inferactively-pymdp) (5.1.1)\n",
            "Requirement already satisfied: tornado>=4.0 in /usr/local/lib/python3.7/dist-packages (from ipykernel>=4.5.1->ipywidgets<8,>=7.0.0->myst-nb>=0.13.1->inferactively-pymdp) (6.1)\n",
            "Requirement already satisfied: jupyter-client in /usr/local/lib/python3.7/dist-packages (from ipykernel>=4.5.1->ipywidgets<8,>=7.0.0->myst-nb>=0.13.1->inferactively-pymdp) (7.2.2)\n",
            "Requirement already satisfied: pygments in /usr/local/lib/python3.7/dist-packages (from ipython->myst-nb>=0.13.1->inferactively-pymdp) (2.6.1)\n",
            "Requirement already satisfied: pickleshare in /usr/local/lib/python3.7/dist-packages (from ipython->myst-nb>=0.13.1->inferactively-pymdp) (0.7.5)\n",
            "Requirement already satisfied: setuptools>=18.5 in /usr/local/lib/python3.7/dist-packages (from ipython->myst-nb>=0.13.1->inferactively-pymdp) (57.4.0)\n",
            "Requirement already satisfied: simplegeneric>0.8 in /usr/local/lib/python3.7/dist-packages (from ipython->myst-nb>=0.13.1->inferactively-pymdp) (0.8.1)\n",
            "Requirement already satisfied: pexpect in /usr/local/lib/python3.7/dist-packages (from ipython->myst-nb>=0.13.1->inferactively-pymdp) (4.8.0)\n",
            "Requirement already satisfied: prompt-toolkit<2.0.0,>=1.0.4 in /usr/local/lib/python3.7/dist-packages (from ipython->myst-nb>=0.13.1->inferactively-pymdp) (1.0.18)\n",
            "Requirement already satisfied: decorator in /usr/local/lib/python3.7/dist-packages (from ipython->myst-nb>=0.13.1->inferactively-pymdp) (4.4.2)\n",
            "Requirement already satisfied: nbdime in /usr/local/lib/python3.7/dist-packages (from jupyter-cache~=0.4.1->myst-nb>=0.13.1->inferactively-pymdp) (3.1.1)\n",
            "Requirement already satisfied: nbclient<0.6,>=0.2 in /usr/local/lib/python3.7/dist-packages (from jupyter-cache~=0.4.1->myst-nb>=0.13.1->inferactively-pymdp) (0.5.13)\n",
            "Requirement already satisfied: sqlalchemy<1.5,>=1.3.12 in /usr/local/lib/python3.7/dist-packages (from jupyter-cache~=0.4.1->myst-nb>=0.13.1->inferactively-pymdp) (1.4.35)\n",
            "Requirement already satisfied: jinja2 in /usr/local/lib/python3.7/dist-packages (from myst-parser~=0.15.2->myst-nb>=0.13.1->inferactively-pymdp) (3.1.1)\n",
            "Requirement already satisfied: mdit-py-plugins~=0.2.8 in /usr/local/lib/python3.7/dist-packages (from myst-parser~=0.15.2->myst-nb>=0.13.1->inferactively-pymdp) (0.2.8)\n",
            "Requirement already satisfied: markdown-it-py<2.0.0,>=1.0.0 in /usr/local/lib/python3.7/dist-packages (from myst-parser~=0.15.2->myst-nb>=0.13.1->inferactively-pymdp) (1.1.0)\n",
            "Requirement already satisfied: nest-asyncio in /usr/local/lib/python3.7/dist-packages (from nbclient<0.6,>=0.2->jupyter-cache~=0.4.1->myst-nb>=0.13.1->inferactively-pymdp) (1.5.5)\n",
            "Requirement already satisfied: jupyter-core>=4.9.2 in /usr/local/lib/python3.7/dist-packages (from jupyter-client->ipykernel>=4.5.1->ipywidgets<8,>=7.0.0->myst-nb>=0.13.1->inferactively-pymdp) (4.9.2)\n",
            "Requirement already satisfied: pyzmq>=22.3 in /usr/local/lib/python3.7/dist-packages (from jupyter-client->ipykernel>=4.5.1->ipywidgets<8,>=7.0.0->myst-nb>=0.13.1->inferactively-pymdp) (22.3.0)\n",
            "Requirement already satisfied: entrypoints in /usr/local/lib/python3.7/dist-packages (from jupyter-client->ipykernel>=4.5.1->ipywidgets<8,>=7.0.0->myst-nb>=0.13.1->inferactively-pymdp) (0.4)\n",
            "Requirement already satisfied: beautifulsoup4 in /usr/local/lib/python3.7/dist-packages (from nbconvert<7,>=5.6->myst-nb>=0.13.1->inferactively-pymdp) (4.6.3)\n",
            "Requirement already satisfied: MarkupSafe>=2.0 in /usr/local/lib/python3.7/dist-packages (from nbconvert<7,>=5.6->myst-nb>=0.13.1->inferactively-pymdp) (2.0.1)\n",
            "Requirement already satisfied: defusedxml in /usr/local/lib/python3.7/dist-packages (from nbconvert<7,>=5.6->myst-nb>=0.13.1->inferactively-pymdp) (0.7.1)\n",
            "Requirement already satisfied: pandocfilters>=1.4.1 in /usr/local/lib/python3.7/dist-packages (from nbconvert<7,>=5.6->myst-nb>=0.13.1->inferactively-pymdp) (1.5.0)\n",
            "Requirement already satisfied: mistune<2,>=0.8.1 in /usr/local/lib/python3.7/dist-packages (from nbconvert<7,>=5.6->myst-nb>=0.13.1->inferactively-pymdp) (0.8.4)\n",
            "Requirement already satisfied: jupyterlab-pygments in /usr/local/lib/python3.7/dist-packages (from nbconvert<7,>=5.6->myst-nb>=0.13.1->inferactively-pymdp) (0.2.2)\n",
            "Requirement already satisfied: bleach in /usr/local/lib/python3.7/dist-packages (from nbconvert<7,>=5.6->myst-nb>=0.13.1->inferactively-pymdp) (5.0.0)\n",
            "Requirement already satisfied: tinycss2 in /usr/local/lib/python3.7/dist-packages (from nbconvert<7,>=5.6->myst-nb>=0.13.1->inferactively-pymdp) (1.1.1)\n",
            "Requirement already satisfied: fastjsonschema in /usr/local/lib/python3.7/dist-packages (from nbformat~=5.0->myst-nb>=0.13.1->inferactively-pymdp) (2.15.3)\n",
            "Requirement already satisfied: jsonschema>=2.6 in /usr/local/lib/python3.7/dist-packages (from nbformat~=5.0->myst-nb>=0.13.1->inferactively-pymdp) (4.3.3)\n",
            "Requirement already satisfied: pyrsistent!=0.17.0,!=0.17.1,!=0.17.2,>=0.14.0 in /usr/local/lib/python3.7/dist-packages (from jsonschema>=2.6->nbformat~=5.0->myst-nb>=0.13.1->inferactively-pymdp) (0.18.1)\n",
            "Requirement already satisfied: importlib-resources>=1.4.0 in /usr/local/lib/python3.7/dist-packages (from jsonschema>=2.6->nbformat~=5.0->myst-nb>=0.13.1->inferactively-pymdp) (5.7.0)\n",
            "Requirement already satisfied: zipp>=3.1.0 in /usr/local/lib/python3.7/dist-packages (from importlib-resources>=1.4.0->jsonschema>=2.6->nbformat~=5.0->myst-nb>=0.13.1->inferactively-pymdp) (3.8.0)\n",
            "Requirement already satisfied: et-xmlfile in /usr/local/lib/python3.7/dist-packages (from openpyxl>=3.0.7->inferactively-pymdp) (1.1.0)\n",
            "Requirement already satisfied: wcwidth in /usr/local/lib/python3.7/dist-packages (from prompt-toolkit<2.0.0,>=1.0.4->ipython->myst-nb>=0.13.1->inferactively-pymdp) (0.2.5)\n",
            "Requirement already satisfied: pluggy<2.0,>=0.12 in /usr/local/lib/python3.7/dist-packages (from pytest>=6.2.1->inferactively-pymdp) (1.0.0)\n",
            "Requirement already satisfied: tomli>=1.0.0 in /usr/local/lib/python3.7/dist-packages (from pytest>=6.2.1->inferactively-pymdp) (2.0.1)\n",
            "Requirement already satisfied: sphinxcontrib-devhelp in /usr/local/lib/python3.7/dist-packages (from sphinx<5,>=3.1->myst-nb>=0.13.1->inferactively-pymdp) (1.0.2)\n",
            "Requirement already satisfied: sphinxcontrib-htmlhelp>=2.0.0 in /usr/local/lib/python3.7/dist-packages (from sphinx<5,>=3.1->myst-nb>=0.13.1->inferactively-pymdp) (2.0.0)\n",
            "Requirement already satisfied: requests>=2.5.0 in /usr/local/lib/python3.7/dist-packages (from sphinx<5,>=3.1->myst-nb>=0.13.1->inferactively-pymdp) (2.23.0)\n",
            "Requirement already satisfied: alabaster<0.8,>=0.7 in /usr/local/lib/python3.7/dist-packages (from sphinx<5,>=3.1->myst-nb>=0.13.1->inferactively-pymdp) (0.7.12)\n",
            "Requirement already satisfied: babel>=1.3 in /usr/local/lib/python3.7/dist-packages (from sphinx<5,>=3.1->myst-nb>=0.13.1->inferactively-pymdp) (2.9.1)\n",
            "Requirement already satisfied: imagesize in /usr/local/lib/python3.7/dist-packages (from sphinx<5,>=3.1->myst-nb>=0.13.1->inferactively-pymdp) (1.3.0)\n",
            "Requirement already satisfied: sphinxcontrib-serializinghtml>=1.1.5 in /usr/local/lib/python3.7/dist-packages (from sphinx<5,>=3.1->myst-nb>=0.13.1->inferactively-pymdp) (1.1.5)\n",
            "Requirement already satisfied: sphinxcontrib-qthelp in /usr/local/lib/python3.7/dist-packages (from sphinx<5,>=3.1->myst-nb>=0.13.1->inferactively-pymdp) (1.0.3)\n",
            "Requirement already satisfied: snowballstemmer>=1.1 in /usr/local/lib/python3.7/dist-packages (from sphinx<5,>=3.1->myst-nb>=0.13.1->inferactively-pymdp) (2.2.0)\n",
            "Requirement already satisfied: sphinxcontrib-jsmath in /usr/local/lib/python3.7/dist-packages (from sphinx<5,>=3.1->myst-nb>=0.13.1->inferactively-pymdp) (1.0.1)\n",
            "Requirement already satisfied: sphinxcontrib-applehelp in /usr/local/lib/python3.7/dist-packages (from sphinx<5,>=3.1->myst-nb>=0.13.1->inferactively-pymdp) (1.0.2)\n",
            "Requirement already satisfied: urllib3!=1.25.0,!=1.25.1,<1.26,>=1.21.1 in /usr/local/lib/python3.7/dist-packages (from requests>=2.5.0->sphinx<5,>=3.1->myst-nb>=0.13.1->inferactively-pymdp) (1.24.3)\n",
            "Requirement already satisfied: chardet<4,>=3.0.2 in /usr/local/lib/python3.7/dist-packages (from requests>=2.5.0->sphinx<5,>=3.1->myst-nb>=0.13.1->inferactively-pymdp) (3.0.4)\n",
            "Requirement already satisfied: certifi>=2017.4.17 in /usr/local/lib/python3.7/dist-packages (from requests>=2.5.0->sphinx<5,>=3.1->myst-nb>=0.13.1->inferactively-pymdp) (2021.10.8)\n",
            "Requirement already satisfied: idna<3,>=2.5 in /usr/local/lib/python3.7/dist-packages (from requests>=2.5.0->sphinx<5,>=3.1->myst-nb>=0.13.1->inferactively-pymdp) (2.10)\n",
            "Requirement already satisfied: wheel in /usr/local/lib/python3.7/dist-packages (from sphinx-togglebutton~=0.3.0->myst-nb>=0.13.1->inferactively-pymdp) (0.37.1)\n",
            "Requirement already satisfied: greenlet!=0.4.17 in /usr/local/lib/python3.7/dist-packages (from sqlalchemy<1.5,>=1.3.12->jupyter-cache~=0.4.1->myst-nb>=0.13.1->inferactively-pymdp) (1.1.2)\n",
            "Requirement already satisfied: notebook>=4.4.1 in /usr/local/lib/python3.7/dist-packages (from widgetsnbextension~=3.6.0->ipywidgets<8,>=7.0.0->myst-nb>=0.13.1->inferactively-pymdp) (5.3.1)\n",
            "Requirement already satisfied: Send2Trash in /usr/local/lib/python3.7/dist-packages (from notebook>=4.4.1->widgetsnbextension~=3.6.0->ipywidgets<8,>=7.0.0->myst-nb>=0.13.1->inferactively-pymdp) (1.8.0)\n",
            "Requirement already satisfied: terminado>=0.8.1 in /usr/local/lib/python3.7/dist-packages (from notebook>=4.4.1->widgetsnbextension~=3.6.0->ipywidgets<8,>=7.0.0->myst-nb>=0.13.1->inferactively-pymdp) (0.13.3)\n",
            "Requirement already satisfied: ptyprocess in /usr/local/lib/python3.7/dist-packages (from terminado>=0.8.1->notebook>=4.4.1->widgetsnbextension~=3.6.0->ipywidgets<8,>=7.0.0->myst-nb>=0.13.1->inferactively-pymdp) (0.7.0)\n",
            "Requirement already satisfied: webencodings in /usr/local/lib/python3.7/dist-packages (from bleach->nbconvert<7,>=5.6->myst-nb>=0.13.1->inferactively-pymdp) (0.5.1)\n",
            "Requirement already satisfied: GitPython!=2.1.4,!=2.1.5,!=2.1.6 in /usr/local/lib/python3.7/dist-packages (from nbdime->jupyter-cache~=0.4.1->myst-nb>=0.13.1->inferactively-pymdp) (3.1.27)\n",
            "Requirement already satisfied: colorama in /usr/local/lib/python3.7/dist-packages (from nbdime->jupyter-cache~=0.4.1->myst-nb>=0.13.1->inferactively-pymdp) (0.4.4)\n",
            "Requirement already satisfied: jupyter-server-mathjax>=0.2.2 in /usr/local/lib/python3.7/dist-packages (from nbdime->jupyter-cache~=0.4.1->myst-nb>=0.13.1->inferactively-pymdp) (0.2.5)\n",
            "Requirement already satisfied: jupyter-server in /usr/local/lib/python3.7/dist-packages (from nbdime->jupyter-cache~=0.4.1->myst-nb>=0.13.1->inferactively-pymdp) (1.16.0)\n",
            "Requirement already satisfied: gitdb<5,>=4.0.1 in /usr/local/lib/python3.7/dist-packages (from GitPython!=2.1.4,!=2.1.5,!=2.1.6->nbdime->jupyter-cache~=0.4.1->myst-nb>=0.13.1->inferactively-pymdp) (4.0.9)\n",
            "Requirement already satisfied: smmap<6,>=3.0.1 in /usr/local/lib/python3.7/dist-packages (from gitdb<5,>=4.0.1->GitPython!=2.1.4,!=2.1.5,!=2.1.6->nbdime->jupyter-cache~=0.4.1->myst-nb>=0.13.1->inferactively-pymdp) (5.0.0)\n",
            "Requirement already satisfied: websocket-client in /usr/local/lib/python3.7/dist-packages (from jupyter-server->nbdime->jupyter-cache~=0.4.1->myst-nb>=0.13.1->inferactively-pymdp) (1.3.2)\n",
            "Requirement already satisfied: anyio>=3.1.0 in /usr/local/lib/python3.7/dist-packages (from jupyter-server->nbdime->jupyter-cache~=0.4.1->myst-nb>=0.13.1->inferactively-pymdp) (3.5.0)\n",
            "Requirement already satisfied: argon2-cffi in /usr/local/lib/python3.7/dist-packages (from jupyter-server->nbdime->jupyter-cache~=0.4.1->myst-nb>=0.13.1->inferactively-pymdp) (21.3.0)\n",
            "Requirement already satisfied: prometheus-client in /usr/local/lib/python3.7/dist-packages (from jupyter-server->nbdime->jupyter-cache~=0.4.1->myst-nb>=0.13.1->inferactively-pymdp) (0.14.1)\n",
            "Requirement already satisfied: sniffio>=1.1 in /usr/local/lib/python3.7/dist-packages (from anyio>=3.1.0->jupyter-server->nbdime->jupyter-cache~=0.4.1->myst-nb>=0.13.1->inferactively-pymdp) (1.2.0)\n",
            "Requirement already satisfied: argon2-cffi-bindings in /usr/local/lib/python3.7/dist-packages (from argon2-cffi->jupyter-server->nbdime->jupyter-cache~=0.4.1->myst-nb>=0.13.1->inferactively-pymdp) (21.2.0)\n",
            "Requirement already satisfied: cffi>=1.0.1 in /usr/local/lib/python3.7/dist-packages (from argon2-cffi-bindings->argon2-cffi->jupyter-server->nbdime->jupyter-cache~=0.4.1->myst-nb>=0.13.1->inferactively-pymdp) (1.15.0)\n",
            "Requirement already satisfied: pycparser in /usr/local/lib/python3.7/dist-packages (from cffi>=1.0.1->argon2-cffi-bindings->argon2-cffi->jupyter-server->nbdime->jupyter-cache~=0.4.1->myst-nb>=0.13.1->inferactively-pymdp) (2.21)\n"
          ]
        }
      ],
      "source": [
        "!pip install pygame\n",
        "!pip install inferactively-pymdp"
      ]
    },
    {
      "cell_type": "code",
      "source": [
        "!git clone https://github.com/yasu-k2/multimodal-active-inference.git"
      ],
      "metadata": {
        "colab": {
          "base_uri": "https://localhost:8080/"
        },
        "id": "DuNshCcCbotO",
        "outputId": "fa41ad24-f04e-4b55-9f05-aa12fbad504b"
      },
      "execution_count": 35,
      "outputs": [
        {
          "output_type": "stream",
          "name": "stdout",
          "text": [
            "Cloning into 'multimodal-active-inference'...\n",
            "remote: Enumerating objects: 131, done.\u001b[K\n",
            "remote: Counting objects: 100% (131/131), done.\u001b[K\n",
            "remote: Compressing objects: 100% (106/106), done.\u001b[K\n",
            "remote: Total 131 (delta 48), reused 51 (delta 5), pack-reused 0\u001b[K\n",
            "Receiving objects: 100% (131/131), 2.87 MiB | 16.34 MiB/s, done.\n",
            "Resolving deltas: 100% (48/48), done.\n"
          ]
        }
      ]
    },
    {
      "cell_type": "code",
      "source": [
        "%cd multimodal-active-inference"
      ],
      "metadata": {
        "colab": {
          "base_uri": "https://localhost:8080/"
        },
        "id": "Vu5p8xWDbzfc",
        "outputId": "23036164-321a-4b2b-def0-104e0e7ef2e3"
      },
      "execution_count": 36,
      "outputs": [
        {
          "output_type": "stream",
          "name": "stdout",
          "text": [
            "/content/multimodal-active-inference/multimodal-active-inference\n"
          ]
        }
      ]
    },
    {
      "cell_type": "code",
      "source": [
        "# !git pull origin main"
      ],
      "metadata": {
        "id": "76-kLuhud1md"
      },
      "execution_count": null,
      "outputs": []
    },
    {
      "cell_type": "markdown",
      "source": [
        "## Audio Visual Maze Setup"
      ],
      "metadata": {
        "id": "J4maZVyLR0v-"
      }
    },
    {
      "cell_type": "code",
      "source": [
        "from AudioVisualMazeEnv import print_maze, fn_create_maze, create_maze, AudioVisualMazeEnv"
      ],
      "metadata": {
        "id": "7Z7J-fG1b9Fp"
      },
      "execution_count": 37,
      "outputs": []
    },
    {
      "cell_type": "code",
      "source": [
        "maze_dir = './'\n",
        "env = AudioVisualMazeEnv(n_div_sound=10, maze_height=21, maze_width=21, create=False, seed=0, start_pos=(1,1), end_pos='LowerRight', DIR=maze_dir)"
      ],
      "metadata": {
        "colab": {
          "base_uri": "https://localhost:8080/"
        },
        "id": "_Dop_PjCb3tU",
        "outputId": "6610caf7-cf3b-4a79-889d-cb1296da4906"
      },
      "execution_count": 38,
      "outputs": [
        {
          "output_type": "stream",
          "name": "stdout",
          "text": [
            "Starting state is (1, 1)\n"
          ]
        }
      ]
    },
    {
      "cell_type": "code",
      "source": [
        "actions = [\"UP\", \"DOWN\", \"LEFT\", \"RIGHT\", \"STAY\"]\n",
        "n_actions = len(actions)"
      ],
      "metadata": {
        "id": "x56UhT_Od6YD"
      },
      "execution_count": 39,
      "outputs": []
    },
    {
      "cell_type": "code",
      "source": [
        "T = 3\n",
        "obs = env.reset()\n",
        "print('obs :')\n",
        "print_maze(obs)\n",
        "for t in range(T):\n",
        "  # action_index = np.random.choice(len(actions))\n",
        "  action_index = 1\n",
        "  action_label = actions[action_index]\n",
        "  obs, rewards, done, info = env.step(action_label)\n",
        "  print('=====Time {}====='.format(t+1))\n",
        "  env.render()\n",
        "  print(env.current_state)  # [Y, X, audio]\n",
        "  print('obs :')\n",
        "  print_maze(obs)"
      ],
      "metadata": {
        "colab": {
          "base_uri": "https://localhost:8080/"
        },
        "id": "sVHzoi864wdR",
        "outputId": "5df8e35e-3e49-438b-a2ed-b9bc5c211a9f"
      },
      "execution_count": 40,
      "outputs": [
        {
          "output_type": "stream",
          "name": "stdout",
          "text": [
            "Re-initialized location to (1, 1, 10)\n",
            "■■■■■■■■■■■■■■■■■■■■■\n",
            "■　■　　　　　　　　　　　　　■　　　■\n",
            "■　■■■■■　■■■■■■■　■　■　■\n",
            "■　■　　　■　　　　　■　　　　　■　■\n",
            "■　■　■　■　■■■　■■■■■■■　■\n",
            "■　　　■　■　　　■　　　■　■　　　■\n",
            "■■■■■　■■■■■■■　■　■　■■■\n",
            "■　　　■　　　　　　　■　■　■　■　■\n",
            "■　■　■■■■■■■　■　■　■　■　■\n",
            "■　■　　　■　　　■　■　■　　　　　■\n",
            "■　■■■　■　■　■　■　■■■■■■■\n",
            "■　■　■　■　■　　　■　　　　　　　■\n",
            "■　■　■　■　■■■■■■■■■■■　■\n",
            "■　■　　　■　　　　　■　　　　　　　■\n",
            "■　■　■■■■■■■　■　■■■■■　■\n",
            "■　■　　　■　　　■　　　■　　　　　■\n",
            "■　■■■　■　■■■■■■■　■■■■■\n",
            "■　■　　　　　■　　　　　■　　　　　■\n",
            "■　■■■■■■■　■■■　■■■■■　■\n",
            "■　　　　　　　　　　　■　　　　　　★■\n",
            "■■■■■■■■■■■■■■■■■■■■■\n",
            "..and sampled observation [[1. 1. 1.]\n",
            " [1. 0. 1.]\n",
            " [1. 0. 1.]]\n",
            "obs :\n",
            "■■■\n",
            "■　■\n",
            "■　■\n",
            "=====Time 1=====\n",
            "■■■■■■■■■■■■■■■■■■■■■\n",
            "■　■　　　　　　　　　　　　　■　　　■\n",
            "■◎■■■■■　■■■■■■■　■　■　■\n",
            "■　■　　　■　　　　　■　　　　　■　■\n",
            "■　■　■　■　■■■　■■■■■■■　■\n",
            "■　　　■　■　　　■　　　■　■　　　■\n",
            "■■■■■　■■■■■■■　■　■　■■■\n",
            "■　　　■　　　　　　　■　■　■　■　■\n",
            "■　■　■■■■■■■　■　■　■　■　■\n",
            "■　■　　　■　　　■　■　■　　　　　■\n",
            "■　■■■　■　■　■　■　■■■■■■■\n",
            "■　■　■　■　■　　　■　　　　　　　■\n",
            "■　■　■　■　■■■■■■■■■■■　■\n",
            "■　■　　　■　　　　　■　　　　　　　■\n",
            "■　■　■■■■■■■　■　■■■■■　■\n",
            "■　■　　　■　　　■　　　■　　　　　■\n",
            "■　■■■　■　■■■■■■■　■■■■■\n",
            "■　■　　　　　■　　　　　■　　　　　■\n",
            "■　■■■■■■■　■■■　■■■■■　■\n",
            "■　　　　　　　　　　　■　　　　　　★■\n",
            "■■■■■■■■■■■■■■■■■■■■■\n",
            "[2, 1, 10]\n",
            "obs :\n",
            "■　■\n",
            "■　■\n",
            "■　■\n",
            "=====Time 2=====\n",
            "■■■■■■■■■■■■■■■■■■■■■\n",
            "■　■　　　　　　　　　　　　　■　　　■\n",
            "■　■■■■■　■■■■■■■　■　■　■\n",
            "■◎■　　　■　　　　　■　　　　　■　■\n",
            "■　■　■　■　■■■　■■■■■■■　■\n",
            "■　　　■　■　　　■　　　■　■　　　■\n",
            "■■■■■　■■■■■■■　■　■　■■■\n",
            "■　　　■　　　　　　　■　■　■　■　■\n",
            "■　■　■■■■■■■　■　■　■　■　■\n",
            "■　■　　　■　　　■　■　■　　　　　■\n",
            "■　■■■　■　■　■　■　■■■■■■■\n",
            "■　■　■　■　■　　　■　　　　　　　■\n",
            "■　■　■　■　■■■■■■■■■■■　■\n",
            "■　■　　　■　　　　　■　　　　　　　■\n",
            "■　■　■■■■■■■　■　■■■■■　■\n",
            "■　■　　　■　　　■　　　■　　　　　■\n",
            "■　■■■　■　■■■■■■■　■■■■■\n",
            "■　■　　　　　■　　　　　■　　　　　■\n",
            "■　■■■■■■■　■■■　■■■■■　■\n",
            "■　　　　　　　　　　　■　　　　　　★■\n",
            "■■■■■■■■■■■■■■■■■■■■■\n",
            "[3, 1, 10]\n",
            "obs :\n",
            "■　■\n",
            "■　■\n",
            "■　■\n",
            "=====Time 3=====\n",
            "■■■■■■■■■■■■■■■■■■■■■\n",
            "■　■　　　　　　　　　　　　　■　　　■\n",
            "■　■■■■■　■■■■■■■　■　■　■\n",
            "■　■　　　■　　　　　■　　　　　■　■\n",
            "■◎■　■　■　■■■　■■■■■■■　■\n",
            "■　　　■　■　　　■　　　■　■　　　■\n",
            "■■■■■　■■■■■■■　■　■　■■■\n",
            "■　　　■　　　　　　　■　■　■　■　■\n",
            "■　■　■■■■■■■　■　■　■　■　■\n",
            "■　■　　　■　　　■　■　■　　　　　■\n",
            "■　■■■　■　■　■　■　■■■■■■■\n",
            "■　■　■　■　■　　　■　　　　　　　■\n",
            "■　■　■　■　■■■■■■■■■■■　■\n",
            "■　■　　　■　　　　　■　　　　　　　■\n",
            "■　■　■■■■■■■　■　■■■■■　■\n",
            "■　■　　　■　　　■　　　■　　　　　■\n",
            "■　■■■　■　■■■■■■■　■■■■■\n",
            "■　■　　　　　■　　　　　■　　　　　■\n",
            "■　■■■■■■■　■■■　■■■■■　■\n",
            "■　　　　　　　　　　　■　　　　　　★■\n",
            "■■■■■■■■■■■■■■■■■■■■■\n",
            "[4, 1, 10]\n",
            "obs :\n",
            "■　■\n",
            "■　■\n",
            "■　　\n"
          ]
        }
      ]
    },
    {
      "cell_type": "markdown",
      "source": [
        "## Active Inference Agent"
      ],
      "metadata": {
        "id": "q3oZulrkRxDL"
      }
    },
    {
      "cell_type": "code",
      "source": [
        "import copy\n",
        "import itertools\n",
        "\n",
        "import numpy as np\n",
        "import matplotlib.pyplot as plt\n",
        "import seaborn as sns\n",
        "\n",
        "import pymdp\n",
        "from pymdp import utils\n",
        "from pymdp.agent import Agent\n",
        "from pymdp.maths import softmax"
      ],
      "metadata": {
        "id": "01l8Ksh45T6V"
      },
      "execution_count": 33,
      "outputs": []
    },
    {
      "cell_type": "code",
      "source": [
        "def plot_grid(grid_locations, num_y=21, num_x=21):\n",
        "  grid_heatmap = np.zeros((num_y, num_x))\n",
        "  for linear_idx, location in enumerate(grid_locations):\n",
        "    y, x = location\n",
        "    grid_heatmap[y, x] = linear_idx\n",
        "  sns.heatmap(grid_heatmap, annot=True, cbar=False, fmt='.0f', cmap='crest')\n",
        "\n",
        "def plot_point_on_grid(state_vector, grid_locations, num_y=21, num_x=21):\n",
        "  state_index = np.where(state_vector)[0][0]\n",
        "  print(np.where(state_vector))\n",
        "  y, x = grid_locations[state_index]\n",
        "  grid_heatmap = np.zeros((num_y, num_x))\n",
        "  grid_heatmap[y,x] = 1.0\n",
        "  sns.heatmap(grid_heatmap, cbar=False, fmt='.0f')\n",
        "\n",
        "def plot_likelihood(matrix, title_str=\"\"):\n",
        "  if not np.isclose(matrix.sum(axis=0), 1.0).all():\n",
        "    raise ValueError(\"Distrbution not column-normalized.\")\n",
        "  sns.heatmap(matrix, cmap='OrRd', vmin=0.0, vmax=1.0)\n",
        "  plt.xticks(range(A.shape[1]))\n",
        "  plt.yticks(range(A.shape[0]))\n",
        "  plt.title(title_str)\n",
        "\n",
        "def plot_beliefs(belief_dist, title_str=\"\"):\n",
        "  if not np.isclose(belief_dist.sum(), 1.0):\n",
        "    raise ValueError(\"Distribution not normalized.\")\n",
        "  plt.grid(zorder=0)\n",
        "  plt.bar(range(belief_dist.shape[0], belief_dist, color='r', zorder=3))\n",
        "  plt.xticks(range(belief_dist.shape[0]))\n",
        "  plt.title(title_str)"
      ],
      "metadata": {
        "id": "lGpTjjhg7gt9"
      },
      "execution_count": 41,
      "outputs": []
    },
    {
      "cell_type": "code",
      "source": [
        "def create_B_matrix(maze_array, grid_locations, actions):\n",
        "  maze_height, maze_width = maze_array.shape\n",
        "  n_states = len(grid_locations)\n",
        "  n_action = len(actions)\n",
        "  B = np.zeros((n_states, n_states, n_actions))\n",
        "  for action_id, action_label in enumerate(actions):\n",
        "    for curr_state, grid_location in enumerate(grid_locations):\n",
        "      y, x = grid_location\n",
        "      if action_label == \"UP\":\n",
        "        next_y = y - 1 if y > 0 else y\n",
        "        next_x = x\n",
        "      elif action_label == \"DOWN\":\n",
        "        next_y = y + 1 if y < (maze_height-1) else y\n",
        "        next_x = x\n",
        "      elif action_label == \"LEFT\":\n",
        "        next_x = x - 1 if x > 0 else x\n",
        "        next_y = y\n",
        "      elif action_label == \"RIGHT\":\n",
        "        next_x = x + 1 if x < (maze_width-1) else x\n",
        "        next_y = y\n",
        "      elif action_label == \"STAY\":\n",
        "        next_x = x\n",
        "        next_y = y\n",
        "\n",
        "      # Blocked by wall\n",
        "      if maze_array[next_y, next_x] == 1:\n",
        "        next_x = x\n",
        "        next_y = y\n",
        "\n",
        "      next_location = (next_y, next_x)\n",
        "      next_state = grid_locations.index(next_location)\n",
        "      B[next_state, curr_state, action_id] = 1.0\n",
        "  return B"
      ],
      "metadata": {
        "id": "yzO5dYPfMZPx"
      },
      "execution_count": 42,
      "outputs": []
    },
    {
      "cell_type": "code",
      "source": [
        "grid_locations = list(itertools.product(range(21), repeat=2))\n",
        "# print(len(grid_locations), grid_locations)\n",
        "# plot_grid(grid_locations)"
      ],
      "metadata": {
        "id": "pKvhzxuA8C4m"
      },
      "execution_count": 43,
      "outputs": []
    },
    {
      "cell_type": "code",
      "source": [
        "n_location_states = len(grid_locations)  # current position\n",
        "n_maze_states = len(grid_locations)  # blocked or non-blocked\n",
        "n_states = [n_location_states]  # + [2] * n_maze_states\n",
        "n_factors = len(n_states)\n",
        "n_controls = [n_actions]  # + [1] * n_maze_states\n",
        "\n",
        "n_location_observations = len(grid_locations)  # current position\n",
        "n_sound_observations = 10 + 1  # sound cue intensity\n",
        "n_reward_observations = 2  # no reward or reward\n",
        "n_obs = [n_location_observations, n_sound_observations, n_reward_observations]\n",
        "n_modalities = len(n_obs)"
      ],
      "metadata": {
        "id": "RQMIltOCSZJ6"
      },
      "execution_count": 58,
      "outputs": []
    },
    {
      "cell_type": "code",
      "source": [
        "# Generate the A array\n",
        "A = utils.obj_array(n_modalities)\n",
        "\n",
        "# first consider a known maze state\n",
        "A_location = np.zeros((n_location_observations, n_location_states))\n",
        "A_location[:, :] = np.eye(n_location_states)\n",
        "print(utils.is_normalized(A_location))\n",
        "A[0] = A_location\n",
        "\n",
        "A_sound = np.zeros((n_sound_observations, n_location_states))\n",
        "# print(env.bins)\n",
        "for gli, gl in enumerate(grid_locations):\n",
        "  sli = env.compute_sound(gl[0], gl[1])\n",
        "  A_sound[sli, gli] = 1.0\n",
        "print(utils.is_normalized(A_sound))\n",
        "A[1] = A_sound\n",
        "\n",
        "A_reward = np.zeros((n_reward_observations, n_location_states))\n",
        "goal_location = (19, 19)\n",
        "goal_location_index = grid_locations.index(goal_location)\n",
        "A_reward[0, :] = 1.0\n",
        "A_reward[0, goal_location_index] = 0.0\n",
        "A_reward[1, goal_location_index] = 1.0\n",
        "print(utils.is_normalized(A_reward))\n",
        "A[2] = A_reward"
      ],
      "metadata": {
        "colab": {
          "base_uri": "https://localhost:8080/"
        },
        "id": "0IhupMId8U7o",
        "outputId": "ea1f8ebb-cc31-4fb8-e13e-198999ffbf5c"
      },
      "execution_count": 59,
      "outputs": [
        {
          "output_type": "stream",
          "name": "stdout",
          "text": [
            "True\n",
            "True\n",
            "True\n"
          ]
        }
      ]
    },
    {
      "cell_type": "code",
      "source": [
        "# Generate the B array\n",
        "B = utils.obj_array(n_factors)\n",
        "maze_array = copy.deepcopy(env.maze_array)\n",
        "B_location = create_B_matrix(maze_array, grid_locations, actions)\n",
        "print(utils.is_normalized(B_location))\n",
        "B[0] = B_location\n",
        "B_maze = np.zeros((2, 2, 1))\n",
        "B_maze[:,:,0] = np.eye(2)\n",
        "print(utils.is_normalized(B_maze))\n",
        "for idx in range(1, n_factors):\n",
        "  B[idx] = B_maze"
      ],
      "metadata": {
        "colab": {
          "base_uri": "https://localhost:8080/"
        },
        "id": "0aiOGCEzSdMl",
        "outputId": "33aadaee-4b99-4f96-b5d4-9d7f959da102"
      },
      "execution_count": 60,
      "outputs": [
        {
          "output_type": "stream",
          "name": "stdout",
          "text": [
            "True\n",
            "True\n"
          ]
        }
      ]
    },
    {
      "cell_type": "code",
      "source": [
        "# Generate the C array\n",
        "C = utils.obj_array_zeros(n_obs)\n",
        "\n",
        "C_location = np.zeros(n_location_observations)\n",
        "desired_location = (19, 19)  # lower right\n",
        "desired_location_index = grid_locations.index(desired_location)\n",
        "C_location[desired_location_index] = 1.0\n",
        "print(utils.is_normalized(C_location))\n",
        "\n",
        "C_sound = np.zeros(n_sound_observations)\n",
        "desired_sound_index = 0  # smallest sound\n",
        "C_sound[desired_sound_index] = 1.0\n",
        "print(utils.is_normalized(C_sound))\n",
        "\n",
        "C_reward = np.zeros(n_reward_observations)\n",
        "C_reward[1] = 1.0\n",
        "print(utils.is_normalized(C_reward))\n",
        "\n",
        "# Choose your preference\n",
        "# C[0] = C_location\n",
        "# C[1] = C_sound\n",
        "C[2] = C_reward"
      ],
      "metadata": {
        "colab": {
          "base_uri": "https://localhost:8080/"
        },
        "id": "L57jsxB6SfWz",
        "outputId": "5e19a6af-34e4-477b-c6a7-79dc6ce74ab5"
      },
      "execution_count": 62,
      "outputs": [
        {
          "output_type": "stream",
          "name": "stdout",
          "text": [
            "True\n",
            "True\n",
            "True\n"
          ]
        }
      ]
    },
    {
      "cell_type": "code",
      "source": [
        "# Generate the D array\n",
        "D = utils.obj_array(n_factors)\n",
        "\n",
        "starting_location = (1, 1)\n",
        "starting_state_index = grid_locations.index(starting_location)\n",
        "starting_state = utils.onehot(starting_state_index, n_location_states)\n",
        "# plot_point_on_grid(starting_state, grid_locations)\n",
        "D_location = utils.onehot(starting_state_index, n_location_states)\n",
        "print(utils.is_normalized(D_location))\n",
        "D[0] = D_location\n",
        "\n",
        "D_maze = np.array([0.5, 0.5])\n",
        "print(utils.is_normalized(D_maze))\n",
        "for idx in range(1, n_factors):\n",
        "  D[idx] = D_maze"
      ],
      "metadata": {
        "colab": {
          "base_uri": "https://localhost:8080/"
        },
        "id": "Kz36zl0zShEv",
        "outputId": "f874f47b-e3b0-4238-82c1-dc7b6d0ad403"
      },
      "execution_count": 63,
      "outputs": [
        {
          "output_type": "stream",
          "name": "stdout",
          "text": [
            "True\n",
            "True\n"
          ]
        }
      ]
    },
    {
      "cell_type": "code",
      "source": [
        "def run_active_inference_loop(my_agent, my_env, T=3):\n",
        "  obs = env.reset()\n",
        "  reward = 0\n",
        "  print('obs :', env.current_state)\n",
        "  print_maze(obs)\n",
        "  for t in range(T):\n",
        "    location = (env.current_state[0], env.current_state[1])\n",
        "    sound = env.current_state[-1]\n",
        "    obs_agent = [grid_locations.index(location), sound, reward]\n",
        "    qs = my_agent.infer_states(obs_agent)\n",
        "    q_pi, efe = my_agent.infer_policies()\n",
        "    action_id = my_agent.sample_action()\n",
        "    action_index = int(action_id[0])\n",
        "\n",
        "    action_label = actions[action_index]\n",
        "    obs, reward, done, info = env.step(action_label)\n",
        "    print('=====Time {}====='.format(t+1))\n",
        "    env.render()\n",
        "    print('obs :', env.current_state)\n",
        "    print_maze(obs)\n",
        "\n",
        "    print(f'Action at time {t+1}: {action_label}')\n",
        "    print(f'Reward at time {t+1}: {reward}')"
      ],
      "metadata": {
        "id": "xWIFal91PbXa"
      },
      "execution_count": 88,
      "outputs": []
    },
    {
      "cell_type": "code",
      "source": [
        "policy_len = 1\n",
        "controllable_indices = [0]\n",
        "action_selection = 'deterministic'  # 'deterministic', 'stochastic'\n",
        "my_agent = Agent(A=A, B=B, C=C, D=D,\n",
        "                 policy_len=policy_len,\n",
        "                 control_fac_idx=controllable_indices,\n",
        "                 action_selection=action_selection)"
      ],
      "metadata": {
        "id": "b_VmUCY7ECKE"
      },
      "execution_count": 89,
      "outputs": []
    },
    {
      "cell_type": "code",
      "source": [
        "T = 3\n",
        "run_active_inference_loop(my_agent, env, T=T)"
      ],
      "metadata": {
        "colab": {
          "base_uri": "https://localhost:8080/"
        },
        "id": "JO_aYb02Sb9F",
        "outputId": "ede7a7e0-910c-44bf-fa19-2c2ee2a0b899"
      },
      "execution_count": 90,
      "outputs": [
        {
          "output_type": "stream",
          "name": "stdout",
          "text": [
            "Re-initialized location to (1, 1, 10)\n",
            "■■■■■■■■■■■■■■■■■■■■■\n",
            "■　■　　　　　　　　　　　　　■　　　■\n",
            "■　■■■■■　■■■■■■■　■　■　■\n",
            "■　■　　　■　　　　　■　　　　　■　■\n",
            "■　■　■　■　■■■　■■■■■■■　■\n",
            "■　　　■　■　　　■　　　■　■　　　■\n",
            "■■■■■　■■■■■■■　■　■　■■■\n",
            "■　　　■　　　　　　　■　■　■　■　■\n",
            "■　■　■■■■■■■　■　■　■　■　■\n",
            "■　■　　　■　　　■　■　■　　　　　■\n",
            "■　■■■　■　■　■　■　■■■■■■■\n",
            "■　■　■　■　■　　　■　　　　　　　■\n",
            "■　■　■　■　■■■■■■■■■■■　■\n",
            "■　■　　　■　　　　　■　　　　　　　■\n",
            "■　■　■■■■■■■　■　■■■■■　■\n",
            "■　■　　　■　　　■　　　■　　　　　■\n",
            "■　■■■　■　■■■■■■■　■■■■■\n",
            "■　■　　　　　■　　　　　■　　　　　■\n",
            "■　■■■■■■■　■■■　■■■■■　■\n",
            "■　　　　　　　　　　　■　　　　　　★■\n",
            "■■■■■■■■■■■■■■■■■■■■■\n",
            "..and sampled observation [[1. 1. 1.]\n",
            " [1. 0. 1.]\n",
            " [1. 0. 1.]]\n",
            "obs : [1, 1, 10]\n",
            "■■■\n",
            "■　■\n",
            "■　■\n",
            "=====Time 1=====\n",
            "■■■■■■■■■■■■■■■■■■■■■\n",
            "■◎■　　　　　　　　　　　　　■　　　■\n",
            "■　■■■■■　■■■■■■■　■　■　■\n",
            "■　■　　　■　　　　　■　　　　　■　■\n",
            "■　■　■　■　■■■　■■■■■■■　■\n",
            "■　　　■　■　　　■　　　■　■　　　■\n",
            "■■■■■　■■■■■■■　■　■　■■■\n",
            "■　　　■　　　　　　　■　■　■　■　■\n",
            "■　■　■■■■■■■　■　■　■　■　■\n",
            "■　■　　　■　　　■　■　■　　　　　■\n",
            "■　■■■　■　■　■　■　■■■■■■■\n",
            "■　■　■　■　■　　　■　　　　　　　■\n",
            "■　■　■　■　■■■■■■■■■■■　■\n",
            "■　■　　　■　　　　　■　　　　　　　■\n",
            "■　■　■■■■■■■　■　■■■■■　■\n",
            "■　■　　　■　　　■　　　■　　　　　■\n",
            "■　■■■　■　■■■■■■■　■■■■■\n",
            "■　■　　　　　■　　　　　■　　　　　■\n",
            "■　■■■■■■■　■■■　■■■■■　■\n",
            "■　　　　　　　　　　　■　　　　　　★■\n",
            "■■■■■■■■■■■■■■■■■■■■■\n",
            "obs : [1, 1, 10]\n",
            "■■■\n",
            "■　■\n",
            "■　■\n",
            "Action at time 1: UP\n",
            "Reward at time 1: 0\n",
            "=====Time 2=====\n",
            "■■■■■■■■■■■■■■■■■■■■■\n",
            "■◎■　　　　　　　　　　　　　■　　　■\n",
            "■　■■■■■　■■■■■■■　■　■　■\n",
            "■　■　　　■　　　　　■　　　　　■　■\n",
            "■　■　■　■　■■■　■■■■■■■　■\n",
            "■　　　■　■　　　■　　　■　■　　　■\n",
            "■■■■■　■■■■■■■　■　■　■■■\n",
            "■　　　■　　　　　　　■　■　■　■　■\n",
            "■　■　■■■■■■■　■　■　■　■　■\n",
            "■　■　　　■　　　■　■　■　　　　　■\n",
            "■　■■■　■　■　■　■　■■■■■■■\n",
            "■　■　■　■　■　　　■　　　　　　　■\n",
            "■　■　■　■　■■■■■■■■■■■　■\n",
            "■　■　　　■　　　　　■　　　　　　　■\n",
            "■　■　■■■■■■■　■　■■■■■　■\n",
            "■　■　　　■　　　■　　　■　　　　　■\n",
            "■　■■■　■　■■■■■■■　■■■■■\n",
            "■　■　　　　　■　　　　　■　　　　　■\n",
            "■　■■■■■■■　■■■　■■■■■　■\n",
            "■　　　　　　　　　　　■　　　　　　★■\n",
            "■■■■■■■■■■■■■■■■■■■■■\n",
            "obs : [1, 1, 10]\n",
            "■■■\n",
            "■　■\n",
            "■　■\n",
            "Action at time 2: UP\n",
            "Reward at time 2: 0\n",
            "=====Time 3=====\n",
            "■■■■■■■■■■■■■■■■■■■■■\n",
            "■◎■　　　　　　　　　　　　　■　　　■\n",
            "■　■■■■■　■■■■■■■　■　■　■\n",
            "■　■　　　■　　　　　■　　　　　■　■\n",
            "■　■　■　■　■■■　■■■■■■■　■\n",
            "■　　　■　■　　　■　　　■　■　　　■\n",
            "■■■■■　■■■■■■■　■　■　■■■\n",
            "■　　　■　　　　　　　■　■　■　■　■\n",
            "■　■　■■■■■■■　■　■　■　■　■\n",
            "■　■　　　■　　　■　■　■　　　　　■\n",
            "■　■■■　■　■　■　■　■■■■■■■\n",
            "■　■　■　■　■　　　■　　　　　　　■\n",
            "■　■　■　■　■■■■■■■■■■■　■\n",
            "■　■　　　■　　　　　■　　　　　　　■\n",
            "■　■　■■■■■■■　■　■■■■■　■\n",
            "■　■　　　■　　　■　　　■　　　　　■\n",
            "■　■■■　■　■■■■■■■　■■■■■\n",
            "■　■　　　　　■　　　　　■　　　　　■\n",
            "■　■■■■■■■　■■■　■■■■■　■\n",
            "■　　　　　　　　　　　■　　　　　　★■\n",
            "■■■■■■■■■■■■■■■■■■■■■\n",
            "obs : [1, 1, 10]\n",
            "■■■\n",
            "■　■\n",
            "■　■\n",
            "Action at time 3: UP\n",
            "Reward at time 3: 0\n"
          ]
        }
      ]
    },
    {
      "cell_type": "markdown",
      "source": [
        "## ActInf with learning\n",
        "\n",
        "Choose the matrix you want to learn. Learning A in the example below."
      ],
      "metadata": {
        "id": "GbBHyfagdlp4"
      }
    },
    {
      "cell_type": "code",
      "source": [
        "# Agent(A=A, pA=pA, modalities_to_learn=learnable_modalities, lr_pA=1.0)\n",
        "#  agent.update_A(obs): update_obs_likelihood_dirichlet(pA, A, obs, qs)\n",
        "pA = utils.dirichlet_like(A, scale=1.0)\n",
        "# TODO: do something with pA\n",
        "A_gm = utils.norm_dist_obj_arr(pA)\n",
        "\n",
        "# Agent(B=B, pB=pB, factors_to_learn=learnable_factors, lr_pB=1.0)\n",
        "#   agent.update_B(qs_prev): update_state_likelihood_dirichlet(pB, B, actions, qs, qs_prev)\n",
        "pB = utils.dirichlet_like(B, scale=1.0)\n",
        "# TODO: do something with pB\n",
        "B_gm = utils.norm_dist_obj_arr(pB)\n",
        "\n",
        "# Agent(D=D, pD=pD, factors_to_learn=learnable_factors, lr_pD=1.0)\n",
        "#   agent.update_D(qs_t0=None): update_state_prior_dirichlet(pD, qs)\n",
        "pD = utils.dirichlet_like(D, scale=1.0)\n",
        "# TODO: do something with pD\n",
        "D_gm = utils.norm_dist_obj_arr(pD)\n",
        "\n",
        "learnable_modalities = [0, 1]  # TODO: specify indices\n",
        "# learnable_factors = [0]  # TODO: specify indices\n",
        "my_agent = Agent(A=A_gm, B=B, C=C, D=D,\n",
        "                 pA=pA, lr_pA=1.0,\n",
        "                 policy_len=policy_len,\n",
        "                 control_fac_idx=controllable_indices,\n",
        "                 action_selection=action_selection,\n",
        "                 modalities_to_learn=learnable_modalities,\n",
        "                 use_param_info_gain=True)"
      ],
      "metadata": {
        "id": "v3TBkIZ5T4zt"
      },
      "execution_count": 92,
      "outputs": []
    },
    {
      "cell_type": "code",
      "source": [
        "def run_active_inference_loop_with_learning(my_agent, my_env, T=3):\n",
        "  obs = env.reset()\n",
        "  reward = 0\n",
        "  for t in range(T):\n",
        "    location = (env.current_state[0], env.current_state[1])\n",
        "    sound = env.current_state[-1]\n",
        "    obs_agent = [grid_locations.index(location), sound, reward]\n",
        "    qs = my_agent.infer_states(obs_agent)\n",
        "    q_pi, efe = my_agent.infer_policies()\n",
        "    action_id = my_agent.sample_action()\n",
        "    pA_t = my_agent.update_A(obs_agent)  # update A via pA\n",
        "\n",
        "    action_index = int(action_id[0])\n",
        "    action_label = actions[action_index]\n",
        "    obs, reward, done, info = env.step(action_label)\n",
        "    # env.render()"
      ],
      "metadata": {
        "id": "FifO7k5idCta"
      },
      "execution_count": 93,
      "outputs": []
    },
    {
      "cell_type": "code",
      "source": [
        "T = 3\n",
        "run_active_inference_loop_with_learning(my_agent, env, T=T)"
      ],
      "metadata": {
        "colab": {
          "base_uri": "https://localhost:8080/"
        },
        "id": "uXPnUiowd0lB",
        "outputId": "9800c300-15e2-44b8-baf9-859d21932171"
      },
      "execution_count": 94,
      "outputs": [
        {
          "output_type": "stream",
          "name": "stdout",
          "text": [
            "Re-initialized location to (1, 1, 10)\n",
            "■■■■■■■■■■■■■■■■■■■■■\n",
            "■　■　　　　　　　　　　　　　■　　　■\n",
            "■　■■■■■　■■■■■■■　■　■　■\n",
            "■　■　　　■　　　　　■　　　　　■　■\n",
            "■　■　■　■　■■■　■■■■■■■　■\n",
            "■　　　■　■　　　■　　　■　■　　　■\n",
            "■■■■■　■■■■■■■　■　■　■■■\n",
            "■　　　■　　　　　　　■　■　■　■　■\n",
            "■　■　■■■■■■■　■　■　■　■　■\n",
            "■　■　　　■　　　■　■　■　　　　　■\n",
            "■　■■■　■　■　■　■　■■■■■■■\n",
            "■　■　■　■　■　　　■　　　　　　　■\n",
            "■　■　■　■　■■■■■■■■■■■　■\n",
            "■　■　　　■　　　　　■　　　　　　　■\n",
            "■　■　■■■■■■■　■　■■■■■　■\n",
            "■　■　　　■　　　■　　　■　　　　　■\n",
            "■　■■■　■　■■■■■■■　■■■■■\n",
            "■　■　　　　　■　　　　　■　　　　　■\n",
            "■　■■■■■■■　■■■　■■■■■　■\n",
            "■　　　　　　　　　　　■　　　　　　★■\n",
            "■■■■■■■■■■■■■■■■■■■■■\n",
            "..and sampled observation [[1. 1. 1.]\n",
            " [1. 0. 1.]\n",
            " [1. 0. 1.]]\n",
            "■■■■■■■■■■■■■■■■■■■■■\n",
            "■　■　　　　　　　　　　　　　■　　　■\n",
            "■◎■■■■■　■■■■■■■　■　■　■\n",
            "■　■　　　■　　　　　■　　　　　■　■\n",
            "■　■　■　■　■■■　■■■■■■■　■\n",
            "■　　　■　■　　　■　　　■　■　　　■\n",
            "■■■■■　■■■■■■■　■　■　■■■\n",
            "■　　　■　　　　　　　■　■　■　■　■\n",
            "■　■　■■■■■■■　■　■　■　■　■\n",
            "■　■　　　■　　　■　■　■　　　　　■\n",
            "■　■■■　■　■　■　■　■■■■■■■\n",
            "■　■　■　■　■　　　■　　　　　　　■\n",
            "■　■　■　■　■■■■■■■■■■■　■\n",
            "■　■　　　■　　　　　■　　　　　　　■\n",
            "■　■　■■■■■■■　■　■■■■■　■\n",
            "■　■　　　■　　　■　　　■　　　　　■\n",
            "■　■■■　■　■■■■■■■　■■■■■\n",
            "■　■　　　　　■　　　　　■　　　　　■\n",
            "■　■■■■■■■　■■■　■■■■■　■\n",
            "■　　　　　　　　　　　■　　　　　　★■\n",
            "■■■■■■■■■■■■■■■■■■■■■\n",
            "■■■■■■■■■■■■■■■■■■■■■\n",
            "■　■　　　　　　　　　　　　　■　　　■\n",
            "■　■■■■■　■■■■■■■　■　■　■\n",
            "■◎■　　　■　　　　　■　　　　　■　■\n",
            "■　■　■　■　■■■　■■■■■■■　■\n",
            "■　　　■　■　　　■　　　■　■　　　■\n",
            "■■■■■　■■■■■■■　■　■　■■■\n",
            "■　　　■　　　　　　　■　■　■　■　■\n",
            "■　■　■■■■■■■　■　■　■　■　■\n",
            "■　■　　　■　　　■　■　■　　　　　■\n",
            "■　■■■　■　■　■　■　■■■■■■■\n",
            "■　■　■　■　■　　　■　　　　　　　■\n",
            "■　■　■　■　■■■■■■■■■■■　■\n",
            "■　■　　　■　　　　　■　　　　　　　■\n",
            "■　■　■■■■■■■　■　■■■■■　■\n",
            "■　■　　　■　　　■　　　■　　　　　■\n",
            "■　■■■　■　■■■■■■■　■■■■■\n",
            "■　■　　　　　■　　　　　■　　　　　■\n",
            "■　■■■■■■■　■■■　■■■■■　■\n",
            "■　　　　　　　　　　　■　　　　　　★■\n",
            "■■■■■■■■■■■■■■■■■■■■■\n",
            "■■■■■■■■■■■■■■■■■■■■■\n",
            "■　■　　　　　　　　　　　　　■　　　■\n",
            "■　■■■■■　■■■■■■■　■　■　■\n",
            "■　■　　　■　　　　　■　　　　　■　■\n",
            "■◎■　■　■　■■■　■■■■■■■　■\n",
            "■　　　■　■　　　■　　　■　■　　　■\n",
            "■■■■■　■■■■■■■　■　■　■■■\n",
            "■　　　■　　　　　　　■　■　■　■　■\n",
            "■　■　■■■■■■■　■　■　■　■　■\n",
            "■　■　　　■　　　■　■　■　　　　　■\n",
            "■　■■■　■　■　■　■　■■■■■■■\n",
            "■　■　■　■　■　　　■　　　　　　　■\n",
            "■　■　■　■　■■■■■■■■■■■　■\n",
            "■　■　　　■　　　　　■　　　　　　　■\n",
            "■　■　■■■■■■■　■　■■■■■　■\n",
            "■　■　　　■　　　■　　　■　　　　　■\n",
            "■　■■■　■　■■■■■■■　■■■■■\n",
            "■　■　　　　　■　　　　　■　　　　　■\n",
            "■　■■■■■■■　■■■　■■■■■　■\n",
            "■　　　　　　　　　　　■　　　　　　★■\n",
            "■■■■■■■■■■■■■■■■■■■■■\n"
          ]
        }
      ]
    },
    {
      "cell_type": "code",
      "source": [
        ""
      ],
      "metadata": {
        "id": "4NOmufeLtfvg"
      },
      "execution_count": null,
      "outputs": []
    }
  ]
}