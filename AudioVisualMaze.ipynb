{
  "nbformat": 4,
  "nbformat_minor": 0,
  "metadata": {
    "colab": {
      "name": "AudioVisualMaze.ipynb",
      "provenance": [],
      "collapsed_sections": [],
      "authorship_tag": "ABX9TyOf/EWeANN0zWDRavutGHso",
      "include_colab_link": true
    },
    "kernelspec": {
      "name": "python3",
      "display_name": "Python 3"
    },
    "language_info": {
      "name": "python"
    }
  },
  "cells": [
    {
      "cell_type": "markdown",
      "metadata": {
        "id": "view-in-github",
        "colab_type": "text"
      },
      "source": [
        "<a href=\"https://colab.research.google.com/github/yasu-k2/multimodal-active-inference/blob/main/AudioVisualMaze.ipynb\" target=\"_parent\"><img src=\"https://colab.research.google.com/assets/colab-badge.svg\" alt=\"Open In Colab\"/></a>"
      ]
    },
    {
      "cell_type": "code",
      "execution_count": 1,
      "metadata": {
        "colab": {
          "base_uri": "https://localhost:8080/",
          "height": 1000
        },
        "id": "iwJgFYGhbgpZ",
        "outputId": "8109ae62-3b8c-49ba-f288-b6627225174e"
      },
      "outputs": [
        {
          "output_type": "stream",
          "name": "stdout",
          "text": [
            "Collecting pygame\n",
            "  Downloading pygame-2.1.2-cp37-cp37m-manylinux_2_17_x86_64.manylinux2014_x86_64.whl (21.8 MB)\n",
            "\u001b[K     |████████████████████████████████| 21.8 MB 3.0 MB/s \n",
            "\u001b[?25hInstalling collected packages: pygame\n",
            "Successfully installed pygame-2.1.2\n",
            "Collecting inferactively-pymdp\n",
            "  Downloading inferactively-pymdp-0.0.4.tar.gz (60 kB)\n",
            "\u001b[K     |████████████████████████████████| 60 kB 3.2 MB/s \n",
            "\u001b[?25hRequirement already satisfied: attrs>=20.3.0 in /usr/local/lib/python3.7/dist-packages (from inferactively-pymdp) (21.4.0)\n",
            "Requirement already satisfied: cycler>=0.10.0 in /usr/local/lib/python3.7/dist-packages (from inferactively-pymdp) (0.11.0)\n",
            "Requirement already satisfied: iniconfig>=1.1.1 in /usr/local/lib/python3.7/dist-packages (from inferactively-pymdp) (1.1.1)\n",
            "Requirement already satisfied: kiwisolver>=1.3.1 in /usr/local/lib/python3.7/dist-packages (from inferactively-pymdp) (1.4.2)\n",
            "Requirement already satisfied: matplotlib>=3.1.3 in /usr/local/lib/python3.7/dist-packages (from inferactively-pymdp) (3.2.2)\n",
            "Collecting nose>=1.3.7\n",
            "  Downloading nose-1.3.7-py3-none-any.whl (154 kB)\n",
            "\u001b[K     |████████████████████████████████| 154 kB 10.4 MB/s \n",
            "\u001b[?25hRequirement already satisfied: numpy>=1.19.5 in /usr/local/lib/python3.7/dist-packages (from inferactively-pymdp) (1.21.6)\n",
            "Requirement already satisfied: openpyxl>=3.0.7 in /usr/local/lib/python3.7/dist-packages (from inferactively-pymdp) (3.0.9)\n",
            "Requirement already satisfied: packaging>=20.8 in /usr/local/lib/python3.7/dist-packages (from inferactively-pymdp) (21.3)\n",
            "Requirement already satisfied: pandas>=1.2.4 in /usr/local/lib/python3.7/dist-packages (from inferactively-pymdp) (1.3.5)\n",
            "Collecting Pillow>=8.2.0pluggy>=0.13.1\n",
            "  Downloading Pillow-9.1.0-cp37-cp37m-manylinux_2_17_x86_64.manylinux2014_x86_64.whl (4.3 MB)\n",
            "\u001b[K     |████████████████████████████████| 4.3 MB 62.9 MB/s \n",
            "\u001b[?25hRequirement already satisfied: py>=1.10.0 in /usr/local/lib/python3.7/dist-packages (from inferactively-pymdp) (1.11.0)\n",
            "Requirement already satisfied: pyparsing>=2.4.7 in /usr/local/lib/python3.7/dist-packages (from inferactively-pymdp) (3.0.8)\n",
            "Collecting pytest>=6.2.1\n",
            "  Downloading pytest-7.1.1-py3-none-any.whl (297 kB)\n",
            "\u001b[K     |████████████████████████████████| 297 kB 65.1 MB/s \n",
            "\u001b[?25hRequirement already satisfied: python-dateutil>=2.8.1 in /usr/local/lib/python3.7/dist-packages (from inferactively-pymdp) (2.8.2)\n",
            "Requirement already satisfied: pytz>=2020.5 in /usr/local/lib/python3.7/dist-packages (from inferactively-pymdp) (2022.1)\n",
            "Collecting scipy>=1.6.0\n",
            "  Downloading scipy-1.7.3-cp37-cp37m-manylinux_2_12_x86_64.manylinux2010_x86_64.whl (38.1 MB)\n",
            "\u001b[K     |████████████████████████████████| 38.1 MB 330 kB/s \n",
            "\u001b[?25hRequirement already satisfied: seaborn>=0.11.1 in /usr/local/lib/python3.7/dist-packages (from inferactively-pymdp) (0.11.2)\n",
            "Requirement already satisfied: six>=1.15.0 in /usr/local/lib/python3.7/dist-packages (from inferactively-pymdp) (1.15.0)\n",
            "Collecting toml>=0.10.2\n",
            "  Downloading toml-0.10.2-py2.py3-none-any.whl (16 kB)\n",
            "Requirement already satisfied: typing-extensions>=3.7.4.3 in /usr/local/lib/python3.7/dist-packages (from inferactively-pymdp) (4.1.1)\n",
            "Collecting xlsxwriter>=1.4.3\n",
            "  Downloading XlsxWriter-3.0.3-py3-none-any.whl (149 kB)\n",
            "\u001b[K     |████████████████████████████████| 149 kB 50.0 MB/s \n",
            "\u001b[?25hCollecting sphinx-rtd-theme>=0.4\n",
            "  Downloading sphinx_rtd_theme-1.0.0-py2.py3-none-any.whl (2.8 MB)\n",
            "\u001b[K     |████████████████████████████████| 2.8 MB 36.4 MB/s \n",
            "\u001b[?25hCollecting myst-nb>=0.13.1\n",
            "  Downloading myst_nb-0.13.2-py3-none-any.whl (41 kB)\n",
            "\u001b[K     |████████████████████████████████| 41 kB 27 kB/s \n",
            "\u001b[?25hRequirement already satisfied: nbconvert<7,>=5.6 in /usr/local/lib/python3.7/dist-packages (from myst-nb>=0.13.1->inferactively-pymdp) (5.6.1)\n",
            "Requirement already satisfied: ipython in /usr/local/lib/python3.7/dist-packages (from myst-nb>=0.13.1->inferactively-pymdp) (5.5.0)\n",
            "Requirement already satisfied: docutils<0.18,>=0.15 in /usr/local/lib/python3.7/dist-packages (from myst-nb>=0.13.1->inferactively-pymdp) (0.17.1)\n",
            "Collecting myst-parser~=0.15.2\n",
            "  Downloading myst_parser-0.15.2-py3-none-any.whl (46 kB)\n",
            "\u001b[K     |████████████████████████████████| 46 kB 2.4 MB/s \n",
            "\u001b[?25hRequirement already satisfied: ipywidgets<8,>=7.0.0 in /usr/local/lib/python3.7/dist-packages (from myst-nb>=0.13.1->inferactively-pymdp) (7.7.0)\n",
            "Collecting sphinx-togglebutton~=0.3.0\n",
            "  Downloading sphinx_togglebutton-0.3.1-py3-none-any.whl (8.0 kB)\n",
            "Requirement already satisfied: importlib-metadata in /usr/local/lib/python3.7/dist-packages (from myst-nb>=0.13.1->inferactively-pymdp) (4.11.3)\n",
            "Collecting sphinx<5,>=3.1\n",
            "  Downloading Sphinx-4.5.0-py3-none-any.whl (3.1 MB)\n",
            "\u001b[K     |████████████████████████████████| 3.1 MB 42.5 MB/s \n",
            "\u001b[?25hRequirement already satisfied: nbformat~=5.0 in /usr/local/lib/python3.7/dist-packages (from myst-nb>=0.13.1->inferactively-pymdp) (5.3.0)\n",
            "Collecting jupyter-cache~=0.4.1\n",
            "  Downloading jupyter_cache-0.4.3-py3-none-any.whl (31 kB)\n",
            "Requirement already satisfied: pyyaml in /usr/local/lib/python3.7/dist-packages (from myst-nb>=0.13.1->inferactively-pymdp) (3.13)\n",
            "Collecting jupyter-sphinx~=0.3.2\n",
            "  Downloading jupyter_sphinx-0.3.2-py3-none-any.whl (20 kB)\n",
            "Requirement already satisfied: ipykernel>=4.5.1 in /usr/local/lib/python3.7/dist-packages (from ipywidgets<8,>=7.0.0->myst-nb>=0.13.1->inferactively-pymdp) (4.10.1)\n",
            "Requirement already satisfied: traitlets>=4.3.1 in /usr/local/lib/python3.7/dist-packages (from ipywidgets<8,>=7.0.0->myst-nb>=0.13.1->inferactively-pymdp) (5.1.1)\n",
            "Requirement already satisfied: ipython-genutils~=0.2.0 in /usr/local/lib/python3.7/dist-packages (from ipywidgets<8,>=7.0.0->myst-nb>=0.13.1->inferactively-pymdp) (0.2.0)\n",
            "Requirement already satisfied: widgetsnbextension~=3.6.0 in /usr/local/lib/python3.7/dist-packages (from ipywidgets<8,>=7.0.0->myst-nb>=0.13.1->inferactively-pymdp) (3.6.0)\n",
            "Requirement already satisfied: jupyterlab-widgets>=1.0.0 in /usr/local/lib/python3.7/dist-packages (from ipywidgets<8,>=7.0.0->myst-nb>=0.13.1->inferactively-pymdp) (1.1.0)\n",
            "Requirement already satisfied: jupyter-client in /usr/local/lib/python3.7/dist-packages (from ipykernel>=4.5.1->ipywidgets<8,>=7.0.0->myst-nb>=0.13.1->inferactively-pymdp) (5.3.5)\n",
            "Requirement already satisfied: tornado>=4.0 in /usr/local/lib/python3.7/dist-packages (from ipykernel>=4.5.1->ipywidgets<8,>=7.0.0->myst-nb>=0.13.1->inferactively-pymdp) (5.1.1)\n",
            "Requirement already satisfied: prompt-toolkit<2.0.0,>=1.0.4 in /usr/local/lib/python3.7/dist-packages (from ipython->myst-nb>=0.13.1->inferactively-pymdp) (1.0.18)\n",
            "Requirement already satisfied: pygments in /usr/local/lib/python3.7/dist-packages (from ipython->myst-nb>=0.13.1->inferactively-pymdp) (2.6.1)\n",
            "Requirement already satisfied: simplegeneric>0.8 in /usr/local/lib/python3.7/dist-packages (from ipython->myst-nb>=0.13.1->inferactively-pymdp) (0.8.1)\n",
            "Requirement already satisfied: setuptools>=18.5 in /usr/local/lib/python3.7/dist-packages (from ipython->myst-nb>=0.13.1->inferactively-pymdp) (57.4.0)\n",
            "Requirement already satisfied: pickleshare in /usr/local/lib/python3.7/dist-packages (from ipython->myst-nb>=0.13.1->inferactively-pymdp) (0.7.5)\n",
            "Requirement already satisfied: pexpect in /usr/local/lib/python3.7/dist-packages (from ipython->myst-nb>=0.13.1->inferactively-pymdp) (4.8.0)\n",
            "Requirement already satisfied: decorator in /usr/local/lib/python3.7/dist-packages (from ipython->myst-nb>=0.13.1->inferactively-pymdp) (4.4.2)\n",
            "Requirement already satisfied: sqlalchemy<1.5,>=1.3.12 in /usr/local/lib/python3.7/dist-packages (from jupyter-cache~=0.4.1->myst-nb>=0.13.1->inferactively-pymdp) (1.4.35)\n",
            "Collecting nbdime\n",
            "  Downloading nbdime-3.1.1-py2.py3-none-any.whl (5.3 MB)\n",
            "\u001b[K     |████████████████████████████████| 5.3 MB 56.9 MB/s \n",
            "\u001b[?25hCollecting nbclient<0.6,>=0.2\n",
            "  Downloading nbclient-0.5.13-py3-none-any.whl (70 kB)\n",
            "\u001b[K     |████████████████████████████████| 70 kB 6.9 MB/s \n",
            "\u001b[?25hCollecting mdit-py-plugins~=0.2.8\n",
            "  Downloading mdit_py_plugins-0.2.8-py3-none-any.whl (41 kB)\n",
            "\u001b[K     |████████████████████████████████| 41 kB 23 kB/s \n",
            "\u001b[?25hCollecting markdown-it-py<2.0.0,>=1.0.0\n",
            "  Downloading markdown_it_py-1.1.0-py3-none-any.whl (83 kB)\n",
            "\u001b[K     |████████████████████████████████| 83 kB 1.8 MB/s \n",
            "\u001b[?25hRequirement already satisfied: jinja2 in /usr/local/lib/python3.7/dist-packages (from myst-parser~=0.15.2->myst-nb>=0.13.1->inferactively-pymdp) (2.11.3)\n",
            "Collecting jupyter-client\n",
            "  Downloading jupyter_client-7.2.2-py3-none-any.whl (130 kB)\n",
            "\u001b[K     |████████████████████████████████| 130 kB 55.2 MB/s \n",
            "\u001b[?25hRequirement already satisfied: nest-asyncio in /usr/local/lib/python3.7/dist-packages (from nbclient<0.6,>=0.2->jupyter-cache~=0.4.1->myst-nb>=0.13.1->inferactively-pymdp) (1.5.5)\n",
            "Collecting tornado>=4.0\n",
            "  Downloading tornado-6.1-cp37-cp37m-manylinux2010_x86_64.whl (428 kB)\n",
            "\u001b[K     |████████████████████████████████| 428 kB 46.6 MB/s \n",
            "\u001b[?25hRequirement already satisfied: entrypoints in /usr/local/lib/python3.7/dist-packages (from jupyter-client->ipykernel>=4.5.1->ipywidgets<8,>=7.0.0->myst-nb>=0.13.1->inferactively-pymdp) (0.4)\n",
            "Requirement already satisfied: pyzmq>=22.3 in /usr/local/lib/python3.7/dist-packages (from jupyter-client->ipykernel>=4.5.1->ipywidgets<8,>=7.0.0->myst-nb>=0.13.1->inferactively-pymdp) (22.3.0)\n",
            "Requirement already satisfied: jupyter-core>=4.9.2 in /usr/local/lib/python3.7/dist-packages (from jupyter-client->ipykernel>=4.5.1->ipywidgets<8,>=7.0.0->myst-nb>=0.13.1->inferactively-pymdp) (4.9.2)\n",
            "Requirement already satisfied: bleach in /usr/local/lib/python3.7/dist-packages (from nbconvert<7,>=5.6->myst-nb>=0.13.1->inferactively-pymdp) (5.0.0)\n",
            "Requirement already satisfied: defusedxml in /usr/local/lib/python3.7/dist-packages (from nbconvert<7,>=5.6->myst-nb>=0.13.1->inferactively-pymdp) (0.7.1)\n",
            "Requirement already satisfied: testpath in /usr/local/lib/python3.7/dist-packages (from nbconvert<7,>=5.6->myst-nb>=0.13.1->inferactively-pymdp) (0.6.0)\n",
            "Requirement already satisfied: mistune<2,>=0.8.1 in /usr/local/lib/python3.7/dist-packages (from nbconvert<7,>=5.6->myst-nb>=0.13.1->inferactively-pymdp) (0.8.4)\n",
            "Requirement already satisfied: pandocfilters>=1.4.1 in /usr/local/lib/python3.7/dist-packages (from nbconvert<7,>=5.6->myst-nb>=0.13.1->inferactively-pymdp) (1.5.0)\n",
            "Requirement already satisfied: MarkupSafe>=0.23 in /usr/local/lib/python3.7/dist-packages (from jinja2->myst-parser~=0.15.2->myst-nb>=0.13.1->inferactively-pymdp) (2.0.1)\n",
            "Requirement already satisfied: jsonschema>=2.6 in /usr/local/lib/python3.7/dist-packages (from nbformat~=5.0->myst-nb>=0.13.1->inferactively-pymdp) (4.3.3)\n",
            "Requirement already satisfied: fastjsonschema in /usr/local/lib/python3.7/dist-packages (from nbformat~=5.0->myst-nb>=0.13.1->inferactively-pymdp) (2.15.3)\n",
            "Requirement already satisfied: importlib-resources>=1.4.0 in /usr/local/lib/python3.7/dist-packages (from jsonschema>=2.6->nbformat~=5.0->myst-nb>=0.13.1->inferactively-pymdp) (5.7.0)\n",
            "Requirement already satisfied: pyrsistent!=0.17.0,!=0.17.1,!=0.17.2,>=0.14.0 in /usr/local/lib/python3.7/dist-packages (from jsonschema>=2.6->nbformat~=5.0->myst-nb>=0.13.1->inferactively-pymdp) (0.18.1)\n",
            "Requirement already satisfied: zipp>=3.1.0 in /usr/local/lib/python3.7/dist-packages (from importlib-resources>=1.4.0->jsonschema>=2.6->nbformat~=5.0->myst-nb>=0.13.1->inferactively-pymdp) (3.8.0)\n",
            "Requirement already satisfied: et-xmlfile in /usr/local/lib/python3.7/dist-packages (from openpyxl>=3.0.7->inferactively-pymdp) (1.1.0)\n",
            "Requirement already satisfied: wcwidth in /usr/local/lib/python3.7/dist-packages (from prompt-toolkit<2.0.0,>=1.0.4->ipython->myst-nb>=0.13.1->inferactively-pymdp) (0.2.5)\n",
            "Requirement already satisfied: tomli>=1.0.0 in /usr/local/lib/python3.7/dist-packages (from pytest>=6.2.1->inferactively-pymdp) (2.0.1)\n",
            "Collecting pluggy<2.0,>=0.12\n",
            "  Downloading pluggy-1.0.0-py2.py3-none-any.whl (13 kB)\n",
            "Requirement already satisfied: babel>=1.3 in /usr/local/lib/python3.7/dist-packages (from sphinx<5,>=3.1->myst-nb>=0.13.1->inferactively-pymdp) (2.9.1)\n",
            "Collecting sphinxcontrib-jsmath\n",
            "  Downloading sphinxcontrib_jsmath-1.0.1-py2.py3-none-any.whl (5.1 kB)\n",
            "Collecting sphinxcontrib-applehelp\n",
            "  Downloading sphinxcontrib_applehelp-1.0.2-py2.py3-none-any.whl (121 kB)\n",
            "\u001b[K     |████████████████████████████████| 121 kB 51.0 MB/s \n",
            "\u001b[?25hCollecting sphinxcontrib-devhelp\n",
            "  Downloading sphinxcontrib_devhelp-1.0.2-py2.py3-none-any.whl (84 kB)\n",
            "\u001b[K     |████████████████████████████████| 84 kB 2.7 MB/s \n",
            "\u001b[?25hRequirement already satisfied: alabaster<0.8,>=0.7 in /usr/local/lib/python3.7/dist-packages (from sphinx<5,>=3.1->myst-nb>=0.13.1->inferactively-pymdp) (0.7.12)\n",
            "Collecting sphinxcontrib-htmlhelp>=2.0.0\n",
            "  Downloading sphinxcontrib_htmlhelp-2.0.0-py2.py3-none-any.whl (100 kB)\n",
            "\u001b[K     |████████████████████████████████| 100 kB 8.6 MB/s \n",
            "\u001b[?25hRequirement already satisfied: requests>=2.5.0 in /usr/local/lib/python3.7/dist-packages (from sphinx<5,>=3.1->myst-nb>=0.13.1->inferactively-pymdp) (2.23.0)\n",
            "Requirement already satisfied: snowballstemmer>=1.1 in /usr/local/lib/python3.7/dist-packages (from sphinx<5,>=3.1->myst-nb>=0.13.1->inferactively-pymdp) (2.2.0)\n",
            "Requirement already satisfied: sphinxcontrib-serializinghtml>=1.1.5 in /usr/local/lib/python3.7/dist-packages (from sphinx<5,>=3.1->myst-nb>=0.13.1->inferactively-pymdp) (1.1.5)\n",
            "Requirement already satisfied: imagesize in /usr/local/lib/python3.7/dist-packages (from sphinx<5,>=3.1->myst-nb>=0.13.1->inferactively-pymdp) (1.3.0)\n",
            "Collecting sphinxcontrib-qthelp\n",
            "  Downloading sphinxcontrib_qthelp-1.0.3-py2.py3-none-any.whl (90 kB)\n",
            "\u001b[K     |████████████████████████████████| 90 kB 8.5 MB/s \n",
            "\u001b[?25hRequirement already satisfied: chardet<4,>=3.0.2 in /usr/local/lib/python3.7/dist-packages (from requests>=2.5.0->sphinx<5,>=3.1->myst-nb>=0.13.1->inferactively-pymdp) (3.0.4)\n",
            "Requirement already satisfied: idna<3,>=2.5 in /usr/local/lib/python3.7/dist-packages (from requests>=2.5.0->sphinx<5,>=3.1->myst-nb>=0.13.1->inferactively-pymdp) (2.10)\n",
            "Requirement already satisfied: certifi>=2017.4.17 in /usr/local/lib/python3.7/dist-packages (from requests>=2.5.0->sphinx<5,>=3.1->myst-nb>=0.13.1->inferactively-pymdp) (2021.10.8)\n",
            "Requirement already satisfied: urllib3!=1.25.0,!=1.25.1,<1.26,>=1.21.1 in /usr/local/lib/python3.7/dist-packages (from requests>=2.5.0->sphinx<5,>=3.1->myst-nb>=0.13.1->inferactively-pymdp) (1.24.3)\n",
            "Requirement already satisfied: wheel in /usr/local/lib/python3.7/dist-packages (from sphinx-togglebutton~=0.3.0->myst-nb>=0.13.1->inferactively-pymdp) (0.37.1)\n",
            "Requirement already satisfied: greenlet!=0.4.17 in /usr/local/lib/python3.7/dist-packages (from sqlalchemy<1.5,>=1.3.12->jupyter-cache~=0.4.1->myst-nb>=0.13.1->inferactively-pymdp) (1.1.2)\n",
            "Requirement already satisfied: notebook>=4.4.1 in /usr/local/lib/python3.7/dist-packages (from widgetsnbextension~=3.6.0->ipywidgets<8,>=7.0.0->myst-nb>=0.13.1->inferactively-pymdp) (5.3.1)\n",
            "Requirement already satisfied: Send2Trash in /usr/local/lib/python3.7/dist-packages (from notebook>=4.4.1->widgetsnbextension~=3.6.0->ipywidgets<8,>=7.0.0->myst-nb>=0.13.1->inferactively-pymdp) (1.8.0)\n",
            "Requirement already satisfied: terminado>=0.8.1 in /usr/local/lib/python3.7/dist-packages (from notebook>=4.4.1->widgetsnbextension~=3.6.0->ipywidgets<8,>=7.0.0->myst-nb>=0.13.1->inferactively-pymdp) (0.13.3)\n",
            "Requirement already satisfied: ptyprocess in /usr/local/lib/python3.7/dist-packages (from terminado>=0.8.1->notebook>=4.4.1->widgetsnbextension~=3.6.0->ipywidgets<8,>=7.0.0->myst-nb>=0.13.1->inferactively-pymdp) (0.7.0)\n",
            "Requirement already satisfied: webencodings in /usr/local/lib/python3.7/dist-packages (from bleach->nbconvert<7,>=5.6->myst-nb>=0.13.1->inferactively-pymdp) (0.5.1)\n",
            "Collecting colorama\n",
            "  Downloading colorama-0.4.4-py2.py3-none-any.whl (16 kB)\n",
            "Collecting GitPython!=2.1.4,!=2.1.5,!=2.1.6\n",
            "  Downloading GitPython-3.1.27-py3-none-any.whl (181 kB)\n",
            "\u001b[K     |████████████████████████████████| 181 kB 65.3 MB/s \n",
            "\u001b[?25hCollecting jupyter-server-mathjax>=0.2.2\n",
            "  Downloading jupyter_server_mathjax-0.2.5-py3-none-any.whl (3.1 MB)\n",
            "\u001b[K     |████████████████████████████████| 3.1 MB 31.2 MB/s \n",
            "\u001b[?25hCollecting jupyter-server\n",
            "  Downloading jupyter_server-1.16.0-py3-none-any.whl (343 kB)\n",
            "\u001b[K     |████████████████████████████████| 343 kB 29.2 MB/s \n",
            "\u001b[?25hCollecting gitdb<5,>=4.0.1\n",
            "  Downloading gitdb-4.0.9-py3-none-any.whl (63 kB)\n",
            "\u001b[K     |████████████████████████████████| 63 kB 1.3 MB/s \n",
            "\u001b[?25hCollecting smmap<6,>=3.0.1\n",
            "  Downloading smmap-5.0.0-py3-none-any.whl (24 kB)\n",
            "Requirement already satisfied: prometheus-client in /usr/local/lib/python3.7/dist-packages (from jupyter-server->nbdime->jupyter-cache~=0.4.1->myst-nb>=0.13.1->inferactively-pymdp) (0.14.1)\n",
            "Collecting websocket-client\n",
            "  Downloading websocket_client-1.3.2-py3-none-any.whl (54 kB)\n",
            "\u001b[K     |████████████████████████████████| 54 kB 2.3 MB/s \n",
            "\u001b[?25hRequirement already satisfied: argon2-cffi in /usr/local/lib/python3.7/dist-packages (from jupyter-server->nbdime->jupyter-cache~=0.4.1->myst-nb>=0.13.1->inferactively-pymdp) (21.3.0)\n",
            "Collecting anyio>=3.1.0\n",
            "  Downloading anyio-3.5.0-py3-none-any.whl (79 kB)\n",
            "\u001b[K     |████████████████████████████████| 79 kB 6.7 MB/s \n",
            "\u001b[?25hCollecting nbconvert<7,>=5.6\n",
            "  Downloading nbconvert-6.5.0-py3-none-any.whl (561 kB)\n",
            "\u001b[K     |████████████████████████████████| 561 kB 56.6 MB/s \n",
            "\u001b[?25hCollecting sniffio>=1.1\n",
            "  Downloading sniffio-1.2.0-py3-none-any.whl (10 kB)\n",
            "Collecting jinja2\n",
            "  Downloading Jinja2-3.1.1-py3-none-any.whl (132 kB)\n",
            "\u001b[K     |████████████████████████████████| 132 kB 54.8 MB/s \n",
            "\u001b[?25hRequirement already satisfied: beautifulsoup4 in /usr/local/lib/python3.7/dist-packages (from nbconvert<7,>=5.6->myst-nb>=0.13.1->inferactively-pymdp) (4.6.3)\n",
            "Requirement already satisfied: jupyterlab-pygments in /usr/local/lib/python3.7/dist-packages (from nbconvert<7,>=5.6->myst-nb>=0.13.1->inferactively-pymdp) (0.2.2)\n",
            "Requirement already satisfied: tinycss2 in /usr/local/lib/python3.7/dist-packages (from nbconvert<7,>=5.6->myst-nb>=0.13.1->inferactively-pymdp) (1.1.1)\n",
            "Requirement already satisfied: argon2-cffi-bindings in /usr/local/lib/python3.7/dist-packages (from argon2-cffi->jupyter-server->nbdime->jupyter-cache~=0.4.1->myst-nb>=0.13.1->inferactively-pymdp) (21.2.0)\n",
            "Requirement already satisfied: cffi>=1.0.1 in /usr/local/lib/python3.7/dist-packages (from argon2-cffi-bindings->argon2-cffi->jupyter-server->nbdime->jupyter-cache~=0.4.1->myst-nb>=0.13.1->inferactively-pymdp) (1.15.0)\n",
            "Requirement already satisfied: pycparser in /usr/local/lib/python3.7/dist-packages (from cffi>=1.0.1->argon2-cffi-bindings->argon2-cffi->jupyter-server->nbdime->jupyter-cache~=0.4.1->myst-nb>=0.13.1->inferactively-pymdp) (2.21)\n",
            "Building wheels for collected packages: inferactively-pymdp\n",
            "  Building wheel for inferactively-pymdp (setup.py) ... \u001b[?25l\u001b[?25hdone\n",
            "  Created wheel for inferactively-pymdp: filename=inferactively_pymdp-0.0.4-py3-none-any.whl size=48107 sha256=ba1db8360d32f21ebf9f4196bad0f9344df7b2caa3f463d3d7a263f1d2299fe6\n",
            "  Stored in directory: /root/.cache/pip/wheels/f3/c0/02/ee3fafc4a24acce7b1612d084febcf2a26ac9d95628f8284ea\n",
            "Successfully built inferactively-pymdp\n",
            "Installing collected packages: tornado, jupyter-client, sniffio, nbclient, jinja2, websocket-client, smmap, nbconvert, anyio, jupyter-server, gitdb, sphinxcontrib-qthelp, sphinxcontrib-jsmath, sphinxcontrib-htmlhelp, sphinxcontrib-devhelp, sphinxcontrib-applehelp, markdown-it-py, jupyter-server-mathjax, GitPython, colorama, sphinx, nbdime, mdit-py-plugins, sphinx-togglebutton, scipy, pluggy, myst-parser, jupyter-sphinx, jupyter-cache, xlsxwriter, toml, sphinx-rtd-theme, pytest, Pillow, nose, myst-nb, inferactively-pymdp\n",
            "  Attempting uninstall: tornado\n",
            "    Found existing installation: tornado 5.1.1\n",
            "    Uninstalling tornado-5.1.1:\n",
            "      Successfully uninstalled tornado-5.1.1\n",
            "  Attempting uninstall: jupyter-client\n",
            "    Found existing installation: jupyter-client 5.3.5\n",
            "    Uninstalling jupyter-client-5.3.5:\n",
            "      Successfully uninstalled jupyter-client-5.3.5\n",
            "  Attempting uninstall: nbclient\n",
            "    Found existing installation: nbclient 0.6.0\n",
            "    Uninstalling nbclient-0.6.0:\n",
            "      Successfully uninstalled nbclient-0.6.0\n",
            "  Attempting uninstall: jinja2\n",
            "    Found existing installation: Jinja2 2.11.3\n",
            "    Uninstalling Jinja2-2.11.3:\n",
            "      Successfully uninstalled Jinja2-2.11.3\n",
            "  Attempting uninstall: nbconvert\n",
            "    Found existing installation: nbconvert 5.6.1\n",
            "    Uninstalling nbconvert-5.6.1:\n",
            "      Successfully uninstalled nbconvert-5.6.1\n",
            "  Attempting uninstall: sphinx\n",
            "    Found existing installation: Sphinx 1.8.6\n",
            "    Uninstalling Sphinx-1.8.6:\n",
            "      Successfully uninstalled Sphinx-1.8.6\n",
            "  Attempting uninstall: scipy\n",
            "    Found existing installation: scipy 1.4.1\n",
            "    Uninstalling scipy-1.4.1:\n",
            "      Successfully uninstalled scipy-1.4.1\n",
            "  Attempting uninstall: pluggy\n",
            "    Found existing installation: pluggy 0.7.1\n",
            "    Uninstalling pluggy-0.7.1:\n",
            "      Successfully uninstalled pluggy-0.7.1\n",
            "  Attempting uninstall: pytest\n",
            "    Found existing installation: pytest 3.6.4\n",
            "    Uninstalling pytest-3.6.4:\n",
            "      Successfully uninstalled pytest-3.6.4\n",
            "  Attempting uninstall: Pillow\n",
            "    Found existing installation: Pillow 7.1.2\n",
            "    Uninstalling Pillow-7.1.2:\n",
            "      Successfully uninstalled Pillow-7.1.2\n",
            "\u001b[31mERROR: pip's dependency resolver does not currently take into account all the packages that are installed. This behaviour is the source of the following dependency conflicts.\n",
            "google-colab 1.0.0 requires tornado~=5.1.0; python_version >= \"3.0\", but you have tornado 6.1 which is incompatible.\n",
            "flask 1.1.4 requires Jinja2<3.0,>=2.10.1, but you have jinja2 3.1.1 which is incompatible.\n",
            "datascience 0.10.6 requires folium==0.2.1, but you have folium 0.8.3 which is incompatible.\n",
            "albumentations 0.1.12 requires imgaug<0.2.7,>=0.2.5, but you have imgaug 0.2.9 which is incompatible.\u001b[0m\n",
            "Successfully installed GitPython-3.1.27 Pillow-9.1.0 anyio-3.5.0 colorama-0.4.4 gitdb-4.0.9 inferactively-pymdp-0.0.4 jinja2-3.1.1 jupyter-cache-0.4.3 jupyter-client-7.2.2 jupyter-server-1.16.0 jupyter-server-mathjax-0.2.5 jupyter-sphinx-0.3.2 markdown-it-py-1.1.0 mdit-py-plugins-0.2.8 myst-nb-0.13.2 myst-parser-0.15.2 nbclient-0.5.13 nbconvert-6.5.0 nbdime-3.1.1 nose-1.3.7 pluggy-1.0.0 pytest-7.1.1 scipy-1.7.3 smmap-5.0.0 sniffio-1.2.0 sphinx-4.5.0 sphinx-rtd-theme-1.0.0 sphinx-togglebutton-0.3.1 sphinxcontrib-applehelp-1.0.2 sphinxcontrib-devhelp-1.0.2 sphinxcontrib-htmlhelp-2.0.0 sphinxcontrib-jsmath-1.0.1 sphinxcontrib-qthelp-1.0.3 toml-0.10.2 tornado-6.1 websocket-client-1.3.2 xlsxwriter-3.0.3\n"
          ]
        },
        {
          "output_type": "display_data",
          "data": {
            "application/vnd.colab-display-data+json": {
              "pip_warning": {
                "packages": [
                  "PIL",
                  "jupyter_client",
                  "sphinxcontrib",
                  "tornado"
                ]
              }
            }
          },
          "metadata": {}
        }
      ],
      "source": [
        "!pip install pygame\n",
        "!pip install inferactively-pymdp"
      ]
    },
    {
      "cell_type": "code",
      "source": [
        "!git clone https://github.com/yasu-k2/multimodal-active-inference.git"
      ],
      "metadata": {
        "colab": {
          "base_uri": "https://localhost:8080/"
        },
        "id": "DuNshCcCbotO",
        "outputId": "7d5bd44e-9da2-469a-8b57-0ec1e98d304f"
      },
      "execution_count": 2,
      "outputs": [
        {
          "output_type": "stream",
          "name": "stdout",
          "text": [
            "Cloning into 'multimodal-active-inference'...\n",
            "remote: Enumerating objects: 143, done.\u001b[K\n",
            "remote: Counting objects: 100% (143/143), done.\u001b[K\n",
            "remote: Compressing objects: 100% (114/114), done.\u001b[K\n",
            "remote: Total 143 (delta 56), reused 58 (delta 9), pack-reused 0\u001b[K\n",
            "Receiving objects: 100% (143/143), 2.88 MiB | 12.82 MiB/s, done.\n",
            "Resolving deltas: 100% (56/56), done.\n"
          ]
        }
      ]
    },
    {
      "cell_type": "code",
      "source": [
        "%cd multimodal-active-inference"
      ],
      "metadata": {
        "colab": {
          "base_uri": "https://localhost:8080/"
        },
        "id": "Vu5p8xWDbzfc",
        "outputId": "24a80e77-26e3-46af-c0af-e0f5ccb3fba2"
      },
      "execution_count": 3,
      "outputs": [
        {
          "output_type": "stream",
          "name": "stdout",
          "text": [
            "/content/multimodal-active-inference\n"
          ]
        }
      ]
    },
    {
      "cell_type": "code",
      "source": [
        "!git pull origin main"
      ],
      "metadata": {
        "colab": {
          "base_uri": "https://localhost:8080/"
        },
        "id": "76-kLuhud1md",
        "outputId": "2189c7c3-da13-4615-f79a-0c71dfd5a070"
      },
      "execution_count": 4,
      "outputs": [
        {
          "output_type": "stream",
          "name": "stdout",
          "text": [
            "From https://github.com/yasu-k2/multimodal-active-inference\n",
            " * branch            main       -> FETCH_HEAD\n",
            "Already up to date.\n"
          ]
        }
      ]
    },
    {
      "cell_type": "markdown",
      "source": [
        "## Audio Visual Maze Setup"
      ],
      "metadata": {
        "id": "J4maZVyLR0v-"
      }
    },
    {
      "cell_type": "code",
      "source": [
        "import numpy as np\n",
        "\n",
        "from AudioVisualMazeEnv import print_maze, fn_create_maze, create_maze, AudioVisualMazeEnv"
      ],
      "metadata": {
        "id": "7Z7J-fG1b9Fp"
      },
      "execution_count": 16,
      "outputs": []
    },
    {
      "cell_type": "code",
      "source": [
        "%load_ext autoreload\n",
        "%autoreload 2"
      ],
      "metadata": {
        "id": "5ilpToIn1cHT"
      },
      "execution_count": 6,
      "outputs": []
    },
    {
      "cell_type": "code",
      "source": [
        "maze_dir = './'\n",
        "n_div_sound = 7\n",
        "maze_height = 11\n",
        "maze_width = 11\n",
        "create = True\n",
        "seed = 0\n",
        "env = AudioVisualMazeEnv(n_div_sound=n_div_sound, maze_height=maze_height, maze_width=maze_width,\n",
        "                         create=create, seed=seed, start_pos=(1,1), end_pos='LowerRight', DIR=maze_dir)"
      ],
      "metadata": {
        "colab": {
          "base_uri": "https://localhost:8080/"
        },
        "id": "_Dop_PjCb3tU",
        "outputId": "1dccbe3e-627d-4731-947d-1041f089bdc7"
      },
      "execution_count": 12,
      "outputs": [
        {
          "output_type": "stream",
          "name": "stdout",
          "text": [
            "start to create 11 x 11 maze\n",
            "finish\n",
            "Starting state is (1, 1)\n"
          ]
        }
      ]
    },
    {
      "cell_type": "code",
      "source": [
        "actions = [\"UP\", \"DOWN\", \"LEFT\", \"RIGHT\", \"STAY\"]\n",
        "n_actions = len(actions)"
      ],
      "metadata": {
        "id": "x56UhT_Od6YD"
      },
      "execution_count": 13,
      "outputs": []
    },
    {
      "cell_type": "code",
      "source": [
        "T = 3\n",
        "obs = env.reset()\n",
        "print('obs :', obs[1])\n",
        "print_maze(obs[0])\n",
        "for t in range(T):\n",
        "  action_index = np.random.choice(len(actions))\n",
        "  # action_index = 1\n",
        "  action_label = actions[action_index]\n",
        "  obs, rewards, done, info = env.step(action_label)\n",
        "  print('=====Time {}====='.format(t+1))\n",
        "  env.render()\n",
        "  print(env.current_state)  # [Y, X, audio]\n",
        "  print('obs :', obs[1])\n",
        "  print_maze(obs[0])"
      ],
      "metadata": {
        "colab": {
          "base_uri": "https://localhost:8080/"
        },
        "id": "sVHzoi864wdR",
        "outputId": "06869fe3-8c56-4776-eda5-f23dab55cd08"
      },
      "execution_count": 17,
      "outputs": [
        {
          "output_type": "stream",
          "name": "stdout",
          "text": [
            "Re-initialized location to (1, 1, 6)\n",
            "■■■■■■■■■■■\n",
            "■◎　　■　　　　　■\n",
            "■■■　■　■　■　■\n",
            "■　■　■　■　■　■\n",
            "■　■　■　■　■■■\n",
            "■　■　■　■　　　■\n",
            "■　■　■　■■■　■\n",
            "■　■　■　　　■　■\n",
            "■　■　■■■■■　■\n",
            "■　　　　　　　　★■\n",
            "■■■■■■■■■■■\n",
            "..and sampled observation [array([[1., 1., 1.],\n",
            "       [1., 2., 0.],\n",
            "       [1., 1., 1.]]), 6]\n",
            "obs : 6\n",
            "■■■\n",
            "■◎　\n",
            "■■■\n",
            "=====Time 1=====\n",
            "■■■■■■■■■■■\n",
            "■◎　　■　　　　　■\n",
            "■■■　■　■　■　■\n",
            "■　■　■　■　■　■\n",
            "■　■　■　■　■■■\n",
            "■　■　■　■　　　■\n",
            "■　■　■　■■■　■\n",
            "■　■　■　　　■　■\n",
            "■　■　■■■■■　■\n",
            "■　　　　　　　　★■\n",
            "■■■■■■■■■■■\n",
            "[1, 1, 6]\n",
            "obs : 6\n",
            "■■■\n",
            "■◎　\n",
            "■■■\n",
            "=====Time 2=====\n",
            "■■■■■■■■■■■\n",
            "■◎　　■　　　　　■\n",
            "■■■　■　■　■　■\n",
            "■　■　■　■　■　■\n",
            "■　■　■　■　■■■\n",
            "■　■　■　■　　　■\n",
            "■　■　■　■■■　■\n",
            "■　■　■　　　■　■\n",
            "■　■　■■■■■　■\n",
            "■　　　　　　　　★■\n",
            "■■■■■■■■■■■\n",
            "[1, 1, 6]\n",
            "obs : 6\n",
            "■■■\n",
            "■◎　\n",
            "■■■\n",
            "=====Time 3=====\n",
            "■■■■■■■■■■■\n",
            "■　◎　■　　　　　■\n",
            "■■■　■　■　■　■\n",
            "■　■　■　■　■　■\n",
            "■　■　■　■　■■■\n",
            "■　■　■　■　　　■\n",
            "■　■　■　■■■　■\n",
            "■　■　■　　　■　■\n",
            "■　■　■■■■■　■\n",
            "■　　　　　　　　★■\n",
            "■■■■■■■■■■■\n",
            "[1, 2, 6]\n",
            "obs : 6\n",
            "■■■\n",
            "◎　　\n",
            "■■　\n"
          ]
        }
      ]
    },
    {
      "cell_type": "markdown",
      "source": [
        "## Active Inference Agent"
      ],
      "metadata": {
        "id": "q3oZulrkRxDL"
      }
    },
    {
      "cell_type": "code",
      "source": [
        "import copy\n",
        "import itertools\n",
        "\n",
        "# import numpy as np\n",
        "import matplotlib.pyplot as plt\n",
        "import seaborn as sns\n",
        "\n",
        "import pymdp\n",
        "from pymdp import utils\n",
        "from pymdp.agent import Agent\n",
        "from pymdp.maths import softmax"
      ],
      "metadata": {
        "id": "01l8Ksh45T6V"
      },
      "execution_count": 18,
      "outputs": []
    },
    {
      "cell_type": "code",
      "source": [
        "def plot_grid(grid_locations, num_y=21, num_x=21):\n",
        "  grid_heatmap = np.zeros((num_y, num_x))\n",
        "  for linear_idx, location in enumerate(grid_locations):\n",
        "    y, x = location\n",
        "    grid_heatmap[y, x] = linear_idx\n",
        "  sns.heatmap(grid_heatmap, annot=True, cbar=False, fmt='.0f', cmap='crest')\n",
        "\n",
        "def plot_point_on_grid(state_vector, grid_locations, num_y=21, num_x=21):\n",
        "  state_index = np.where(state_vector)[0][0]\n",
        "  print(np.where(state_vector))\n",
        "  y, x = grid_locations[state_index]\n",
        "  grid_heatmap = np.zeros((num_y, num_x))\n",
        "  grid_heatmap[y,x] = 1.0\n",
        "  sns.heatmap(grid_heatmap, cbar=False, fmt='.0f')\n",
        "\n",
        "def plot_likelihood(matrix, title_str=\"\"):\n",
        "  if not np.isclose(matrix.sum(axis=0), 1.0).all():\n",
        "    raise ValueError(\"Distrbution not column-normalized.\")\n",
        "  sns.heatmap(matrix, cmap='OrRd', vmin=0.0, vmax=1.0)\n",
        "  plt.xticks(range(A.shape[1]))\n",
        "  plt.yticks(range(A.shape[0]))\n",
        "  plt.title(title_str)\n",
        "\n",
        "def plot_beliefs(belief_dist, title_str=\"\"):\n",
        "  if not np.isclose(belief_dist.sum(), 1.0):\n",
        "    raise ValueError(\"Distribution not normalized.\")\n",
        "  plt.grid(zorder=0)\n",
        "  plt.bar(range(belief_dist.shape[0], belief_dist, color='r', zorder=3))\n",
        "  plt.xticks(range(belief_dist.shape[0]))\n",
        "  plt.title(title_str)"
      ],
      "metadata": {
        "id": "lGpTjjhg7gt9"
      },
      "execution_count": 19,
      "outputs": []
    },
    {
      "cell_type": "code",
      "source": [
        "def create_B_matrix(maze_array, grid_locations, actions):\n",
        "  maze_height, maze_width = maze_array.shape\n",
        "  n_states = len(grid_locations)\n",
        "  n_action = len(actions)\n",
        "  B = np.zeros((n_states, n_states, n_actions))\n",
        "  for action_id, action_label in enumerate(actions):\n",
        "    for curr_state, grid_location in enumerate(grid_locations):\n",
        "      y, x = grid_location\n",
        "      if action_label == \"UP\":\n",
        "        next_y = y - 1 if y > 0 else y\n",
        "        next_x = x\n",
        "      elif action_label == \"DOWN\":\n",
        "        next_y = y + 1 if y < (maze_height-1) else y\n",
        "        next_x = x\n",
        "      elif action_label == \"LEFT\":\n",
        "        next_x = x - 1 if x > 0 else x\n",
        "        next_y = y\n",
        "      elif action_label == \"RIGHT\":\n",
        "        next_x = x + 1 if x < (maze_width-1) else x\n",
        "        next_y = y\n",
        "      elif action_label == \"STAY\":\n",
        "        next_x = x\n",
        "        next_y = y\n",
        "\n",
        "      # Blocked by wall\n",
        "      if maze_array[next_y, next_x] == 1:\n",
        "        next_x = x\n",
        "        next_y = y\n",
        "\n",
        "      next_location = (next_y, next_x)\n",
        "      next_state = grid_locations.index(next_location)\n",
        "      B[next_state, curr_state, action_id] = 1.0\n",
        "  return B"
      ],
      "metadata": {
        "id": "yzO5dYPfMZPx"
      },
      "execution_count": 20,
      "outputs": []
    },
    {
      "cell_type": "code",
      "source": [
        "grid_locations = list(itertools.product(range(maze_height), range(maze_width)))\n",
        "# print(len(grid_locations), grid_locations)\n",
        "# plot_grid(grid_locations)"
      ],
      "metadata": {
        "id": "pKvhzxuA8C4m"
      },
      "execution_count": 21,
      "outputs": []
    },
    {
      "cell_type": "code",
      "source": [
        "n_location_states = len(grid_locations)  # current position\n",
        "n_maze_states = len(grid_locations)  # blocked or non-blocked\n",
        "n_states = [n_location_states]  # + [2] * n_maze_states\n",
        "n_factors = len(n_states)\n",
        "n_controls = [n_actions]  # + [1] * n_maze_states\n",
        "\n",
        "n_location_observations = len(grid_locations)  # current position\n",
        "n_sound_observations = n_div_sound  # sound cue intensity\n",
        "n_reward_observations = 2  # no reward or reward\n",
        "n_obs = [n_location_observations, n_sound_observations, n_reward_observations]\n",
        "n_modalities = len(n_obs)"
      ],
      "metadata": {
        "id": "RQMIltOCSZJ6"
      },
      "execution_count": 22,
      "outputs": []
    },
    {
      "cell_type": "code",
      "source": [
        "# Generate the A array\n",
        "A = utils.obj_array(n_modalities)\n",
        "\n",
        "# first consider a known maze state\n",
        "A_location = np.zeros((n_location_observations, n_location_states))\n",
        "A_location[:, :] = np.eye(n_location_states)\n",
        "# print(utils.is_normalized(A_location))\n",
        "A[0] = A_location\n",
        "\n",
        "A_sound = np.zeros((n_sound_observations, n_location_states))\n",
        "# print(env.bins)\n",
        "for gli, gl in enumerate(grid_locations):\n",
        "  sli = env.compute_sound(gl[0], gl[1])\n",
        "  A_sound[sli, gli] = 1.0\n",
        "# print(utils.is_normalized(A_sound))\n",
        "A[1] = A_sound\n",
        "\n",
        "A_reward = np.zeros((n_reward_observations, n_location_states))\n",
        "goal_location = (maze_height-2, maze_width-2)\n",
        "goal_location_index = grid_locations.index(goal_location)\n",
        "A_reward[0, :] = 1.0\n",
        "A_reward[0, goal_location_index] = 0.0\n",
        "A_reward[1, goal_location_index] = 1.0\n",
        "# print(utils.is_normalized(A_reward))\n",
        "A[2] = A_reward"
      ],
      "metadata": {
        "id": "0IhupMId8U7o"
      },
      "execution_count": 25,
      "outputs": []
    },
    {
      "cell_type": "code",
      "source": [
        "# Generate the B array\n",
        "B = utils.obj_array(n_factors)\n",
        "maze_array = copy.deepcopy(env.maze_array)\n",
        "B_location = create_B_matrix(maze_array, grid_locations, actions)\n",
        "# print(utils.is_normalized(B_location))\n",
        "B[0] = B_location\n",
        "\n",
        "B_maze = np.zeros((2, 2, 1))\n",
        "B_maze[:,:,0] = np.eye(2)\n",
        "# print(utils.is_normalized(B_maze))\n",
        "for idx in range(1, n_factors):\n",
        "  B[idx] = B_maze"
      ],
      "metadata": {
        "id": "0aiOGCEzSdMl"
      },
      "execution_count": 26,
      "outputs": []
    },
    {
      "cell_type": "code",
      "source": [
        "# Generate the C array\n",
        "C = utils.obj_array_zeros(n_obs)\n",
        "\n",
        "C_location = np.zeros(n_location_observations)\n",
        "desired_location = (maze_height-2, maze_width-2)  # lower right\n",
        "desired_location_index = grid_locations.index(desired_location)\n",
        "C_location[desired_location_index] = 1.0\n",
        "# print(utils.is_normalized(C_location))\n",
        "\n",
        "C_sound = np.zeros(n_sound_observations)\n",
        "desired_sound_index = 0  # smallest sound\n",
        "C_sound[desired_sound_index] = 1.0\n",
        "# print(utils.is_normalized(C_sound))\n",
        "\n",
        "C_reward = np.zeros(n_reward_observations)\n",
        "C_reward[1] = 1.0\n",
        "# print(utils.is_normalized(C_reward))\n",
        "\n",
        "# Choose your preference\n",
        "# C[0] = C_location\n",
        "# C[1] = C_sound\n",
        "C[2] = C_reward"
      ],
      "metadata": {
        "id": "L57jsxB6SfWz"
      },
      "execution_count": 27,
      "outputs": []
    },
    {
      "cell_type": "code",
      "source": [
        "# Generate the D array\n",
        "D = utils.obj_array(n_factors)\n",
        "\n",
        "starting_location = (1, 1)\n",
        "starting_state_index = grid_locations.index(starting_location)\n",
        "starting_state = utils.onehot(starting_state_index, n_location_states)\n",
        "# plot_point_on_grid(starting_state, grid_locations)\n",
        "D_location = utils.onehot(starting_state_index, n_location_states)\n",
        "# print(utils.is_normalized(D_location))\n",
        "D[0] = D_location\n",
        "\n",
        "D_maze = np.array([0.5, 0.5])\n",
        "# print(utils.is_normalized(D_maze))\n",
        "for idx in range(1, n_factors):\n",
        "  D[idx] = D_maze"
      ],
      "metadata": {
        "id": "Kz36zl0zShEv"
      },
      "execution_count": 28,
      "outputs": []
    },
    {
      "cell_type": "code",
      "source": [
        "def run_active_inference_loop(my_agent, my_env, T=3):\n",
        "  obs = env.reset()\n",
        "  reward = 0\n",
        "  for t in range(T):\n",
        "    env.render()\n",
        "    print('obs :', obs[1])\n",
        "    print_maze(obs[0])\n",
        "  \n",
        "    location = (env.current_state[0], env.current_state[1])\n",
        "    sound = obs[1]\n",
        "    obs_agent = [grid_locations.index(location), sound, reward]\n",
        "    qs = my_agent.infer_states(obs_agent)\n",
        "    q_pi, efe = my_agent.infer_policies()\n",
        "    action_id = my_agent.sample_action()\n",
        "    action_index = int(action_id[0])\n",
        "\n",
        "    action_label = actions[action_index]\n",
        "    obs, reward, done, info = env.step(action_label)\n",
        "    print('=====Time {}====='.format(t+1))\n",
        "\n",
        "    print(f'Action at time {t+1}: {action_label}')\n",
        "    print(f'Reward at time {t+1}: {reward}')"
      ],
      "metadata": {
        "id": "xWIFal91PbXa"
      },
      "execution_count": 29,
      "outputs": []
    },
    {
      "cell_type": "code",
      "source": [
        "policy_len = 5\n",
        "controllable_indices = [0]\n",
        "action_selection = 'deterministic'  # 'deterministic', 'stochastic'\n",
        "my_agent = Agent(A=A, B=B, C=C, D=D,\n",
        "                 policy_len=policy_len,\n",
        "                 control_fac_idx=controllable_indices,\n",
        "                 action_selection=action_selection)"
      ],
      "metadata": {
        "id": "b_VmUCY7ECKE"
      },
      "execution_count": 30,
      "outputs": []
    },
    {
      "cell_type": "code",
      "source": [
        "T = 3\n",
        "run_active_inference_loop(my_agent, env, T=T)"
      ],
      "metadata": {
        "colab": {
          "base_uri": "https://localhost:8080/"
        },
        "id": "JO_aYb02Sb9F",
        "outputId": "07a6d4a9-53dd-4186-d397-856311939b56"
      },
      "execution_count": 31,
      "outputs": [
        {
          "output_type": "stream",
          "name": "stdout",
          "text": [
            "Re-initialized location to (1, 1, 6)\n",
            "■■■■■■■■■■■\n",
            "■◎　　■　　　　　■\n",
            "■■■　■　■　■　■\n",
            "■　■　■　■　■　■\n",
            "■　■　■　■　■■■\n",
            "■　■　■　■　　　■\n",
            "■　■　■　■■■　■\n",
            "■　■　■　　　■　■\n",
            "■　■　■■■■■　■\n",
            "■　　　　　　　　★■\n",
            "■■■■■■■■■■■\n",
            "..and sampled observation [array([[1., 1., 1.],\n",
            "       [1., 2., 0.],\n",
            "       [1., 1., 1.]]), 6]\n",
            "■■■■■■■■■■■\n",
            "■◎　　■　　　　　■\n",
            "■■■　■　■　■　■\n",
            "■　■　■　■　■　■\n",
            "■　■　■　■　■■■\n",
            "■　■　■　■　　　■\n",
            "■　■　■　■■■　■\n",
            "■　■　■　　　■　■\n",
            "■　■　■■■■■　■\n",
            "■　　　　　　　　★■\n",
            "■■■■■■■■■■■\n",
            "obs : 6\n",
            "■■■\n",
            "■◎　\n",
            "■■■\n",
            "=====Time 1=====\n",
            "Action at time 1: UP\n",
            "Reward at time 1: 0\n",
            "■■■■■■■■■■■\n",
            "■◎　　■　　　　　■\n",
            "■■■　■　■　■　■\n",
            "■　■　■　■　■　■\n",
            "■　■　■　■　■■■\n",
            "■　■　■　■　　　■\n",
            "■　■　■　■■■　■\n",
            "■　■　■　　　■　■\n",
            "■　■　■■■■■　■\n",
            "■　　　　　　　　★■\n",
            "■■■■■■■■■■■\n",
            "obs : 6\n",
            "■■■\n",
            "■◎　\n",
            "■■■\n",
            "=====Time 2=====\n",
            "Action at time 2: UP\n",
            "Reward at time 2: 0\n",
            "■■■■■■■■■■■\n",
            "■◎　　■　　　　　■\n",
            "■■■　■　■　■　■\n",
            "■　■　■　■　■　■\n",
            "■　■　■　■　■■■\n",
            "■　■　■　■　　　■\n",
            "■　■　■　■■■　■\n",
            "■　■　■　　　■　■\n",
            "■　■　■■■■■　■\n",
            "■　　　　　　　　★■\n",
            "■■■■■■■■■■■\n",
            "obs : 6\n",
            "■■■\n",
            "■◎　\n",
            "■■■\n",
            "=====Time 3=====\n",
            "Action at time 3: UP\n",
            "Reward at time 3: 0\n"
          ]
        }
      ]
    },
    {
      "cell_type": "markdown",
      "source": [
        "## ActInf with learning\n",
        "\n",
        "Choose the matrix you want to learn. Learning A in the example below."
      ],
      "metadata": {
        "id": "GbBHyfagdlp4"
      }
    },
    {
      "cell_type": "code",
      "source": [
        "# Agent(A=A, pA=pA, modalities_to_learn=learnable_modalities, lr_pA=1.0)\n",
        "#  agent.update_A(obs): update_obs_likelihood_dirichlet(pA, A, obs, qs)\n",
        "pA = utils.dirichlet_like(A, scale=1.0)\n",
        "# TODO: do something with pA\n",
        "A_gm = utils.norm_dist_obj_arr(pA)\n",
        "\n",
        "# Agent(B=B, pB=pB, factors_to_learn=learnable_factors, lr_pB=1.0)\n",
        "#   agent.update_B(qs_prev): update_state_likelihood_dirichlet(pB, B, actions, qs, qs_prev)\n",
        "pB = utils.dirichlet_like(B, scale=1.0)\n",
        "# TODO: do something with pB\n",
        "B_gm = utils.norm_dist_obj_arr(pB)\n",
        "\n",
        "# Agent(D=D, pD=pD, factors_to_learn=learnable_factors, lr_pD=1.0)\n",
        "#   agent.update_D(qs_t0=None): update_state_prior_dirichlet(pD, qs)\n",
        "pD = utils.dirichlet_like(D, scale=1.0)\n",
        "# TODO: do something with pD\n",
        "D_gm = utils.norm_dist_obj_arr(pD)\n",
        "\n",
        "learnable_modalities = [0, 1]  # TODO: specify indices\n",
        "# learnable_factors = [0]  # TODO: specify indices\n",
        "my_agent = Agent(A=A_gm, B=B, C=C, D=D,\n",
        "                 pA=pA, lr_pA=1.0,\n",
        "                 policy_len=policy_len,\n",
        "                 control_fac_idx=controllable_indices,\n",
        "                 action_selection=action_selection,\n",
        "                 modalities_to_learn=learnable_modalities,\n",
        "                 use_param_info_gain=True)"
      ],
      "metadata": {
        "id": "v3TBkIZ5T4zt"
      },
      "execution_count": 92,
      "outputs": []
    },
    {
      "cell_type": "code",
      "source": [
        "def run_active_inference_loop_with_learning(my_agent, my_env, T=3):\n",
        "  obs = env.reset()\n",
        "  reward = 0\n",
        "  for t in range(T):\n",
        "    # env.render()\n",
        "    location = (env.current_state[0], env.current_state[1])\n",
        "    sound = obs[1]\n",
        "    obs_agent = [grid_locations.index(location), sound, reward]\n",
        "    qs = my_agent.infer_states(obs_agent)\n",
        "    q_pi, efe = my_agent.infer_policies()\n",
        "    action_id = my_agent.sample_action()\n",
        "    pA_t = my_agent.update_A(obs_agent)  # update A via pA\n",
        "\n",
        "    action_index = int(action_id[0])\n",
        "    action_label = actions[action_index]\n",
        "    obs, reward, done, info = env.step(action_label)    "
      ],
      "metadata": {
        "id": "FifO7k5idCta"
      },
      "execution_count": 93,
      "outputs": []
    },
    {
      "cell_type": "code",
      "source": [
        "T = 3\n",
        "run_active_inference_loop_with_learning(my_agent, env, T=T)"
      ],
      "metadata": {
        "colab": {
          "base_uri": "https://localhost:8080/"
        },
        "id": "uXPnUiowd0lB",
        "outputId": "9800c300-15e2-44b8-baf9-859d21932171"
      },
      "execution_count": 94,
      "outputs": [
        {
          "output_type": "stream",
          "name": "stdout",
          "text": [
            "Re-initialized location to (1, 1, 10)\n",
            "■■■■■■■■■■■■■■■■■■■■■\n",
            "■　■　　　　　　　　　　　　　■　　　■\n",
            "■　■■■■■　■■■■■■■　■　■　■\n",
            "■　■　　　■　　　　　■　　　　　■　■\n",
            "■　■　■　■　■■■　■■■■■■■　■\n",
            "■　　　■　■　　　■　　　■　■　　　■\n",
            "■■■■■　■■■■■■■　■　■　■■■\n",
            "■　　　■　　　　　　　■　■　■　■　■\n",
            "■　■　■■■■■■■　■　■　■　■　■\n",
            "■　■　　　■　　　■　■　■　　　　　■\n",
            "■　■■■　■　■　■　■　■■■■■■■\n",
            "■　■　■　■　■　　　■　　　　　　　■\n",
            "■　■　■　■　■■■■■■■■■■■　■\n",
            "■　■　　　■　　　　　■　　　　　　　■\n",
            "■　■　■■■■■■■　■　■■■■■　■\n",
            "■　■　　　■　　　■　　　■　　　　　■\n",
            "■　■■■　■　■■■■■■■　■■■■■\n",
            "■　■　　　　　■　　　　　■　　　　　■\n",
            "■　■■■■■■■　■■■　■■■■■　■\n",
            "■　　　　　　　　　　　■　　　　　　★■\n",
            "■■■■■■■■■■■■■■■■■■■■■\n",
            "..and sampled observation [[1. 1. 1.]\n",
            " [1. 0. 1.]\n",
            " [1. 0. 1.]]\n",
            "■■■■■■■■■■■■■■■■■■■■■\n",
            "■　■　　　　　　　　　　　　　■　　　■\n",
            "■◎■■■■■　■■■■■■■　■　■　■\n",
            "■　■　　　■　　　　　■　　　　　■　■\n",
            "■　■　■　■　■■■　■■■■■■■　■\n",
            "■　　　■　■　　　■　　　■　■　　　■\n",
            "■■■■■　■■■■■■■　■　■　■■■\n",
            "■　　　■　　　　　　　■　■　■　■　■\n",
            "■　■　■■■■■■■　■　■　■　■　■\n",
            "■　■　　　■　　　■　■　■　　　　　■\n",
            "■　■■■　■　■　■　■　■■■■■■■\n",
            "■　■　■　■　■　　　■　　　　　　　■\n",
            "■　■　■　■　■■■■■■■■■■■　■\n",
            "■　■　　　■　　　　　■　　　　　　　■\n",
            "■　■　■■■■■■■　■　■■■■■　■\n",
            "■　■　　　■　　　■　　　■　　　　　■\n",
            "■　■■■　■　■■■■■■■　■■■■■\n",
            "■　■　　　　　■　　　　　■　　　　　■\n",
            "■　■■■■■■■　■■■　■■■■■　■\n",
            "■　　　　　　　　　　　■　　　　　　★■\n",
            "■■■■■■■■■■■■■■■■■■■■■\n",
            "■■■■■■■■■■■■■■■■■■■■■\n",
            "■　■　　　　　　　　　　　　　■　　　■\n",
            "■　■■■■■　■■■■■■■　■　■　■\n",
            "■◎■　　　■　　　　　■　　　　　■　■\n",
            "■　■　■　■　■■■　■■■■■■■　■\n",
            "■　　　■　■　　　■　　　■　■　　　■\n",
            "■■■■■　■■■■■■■　■　■　■■■\n",
            "■　　　■　　　　　　　■　■　■　■　■\n",
            "■　■　■■■■■■■　■　■　■　■　■\n",
            "■　■　　　■　　　■　■　■　　　　　■\n",
            "■　■■■　■　■　■　■　■■■■■■■\n",
            "■　■　■　■　■　　　■　　　　　　　■\n",
            "■　■　■　■　■■■■■■■■■■■　■\n",
            "■　■　　　■　　　　　■　　　　　　　■\n",
            "■　■　■■■■■■■　■　■■■■■　■\n",
            "■　■　　　■　　　■　　　■　　　　　■\n",
            "■　■■■　■　■■■■■■■　■■■■■\n",
            "■　■　　　　　■　　　　　■　　　　　■\n",
            "■　■■■■■■■　■■■　■■■■■　■\n",
            "■　　　　　　　　　　　■　　　　　　★■\n",
            "■■■■■■■■■■■■■■■■■■■■■\n",
            "■■■■■■■■■■■■■■■■■■■■■\n",
            "■　■　　　　　　　　　　　　　■　　　■\n",
            "■　■■■■■　■■■■■■■　■　■　■\n",
            "■　■　　　■　　　　　■　　　　　■　■\n",
            "■◎■　■　■　■■■　■■■■■■■　■\n",
            "■　　　■　■　　　■　　　■　■　　　■\n",
            "■■■■■　■■■■■■■　■　■　■■■\n",
            "■　　　■　　　　　　　■　■　■　■　■\n",
            "■　■　■■■■■■■　■　■　■　■　■\n",
            "■　■　　　■　　　■　■　■　　　　　■\n",
            "■　■■■　■　■　■　■　■■■■■■■\n",
            "■　■　■　■　■　　　■　　　　　　　■\n",
            "■　■　■　■　■■■■■■■■■■■　■\n",
            "■　■　　　■　　　　　■　　　　　　　■\n",
            "■　■　■■■■■■■　■　■■■■■　■\n",
            "■　■　　　■　　　■　　　■　　　　　■\n",
            "■　■■■　■　■■■■■■■　■■■■■\n",
            "■　■　　　　　■　　　　　■　　　　　■\n",
            "■　■■■■■■■　■■■　■■■■■　■\n",
            "■　　　　　　　　　　　■　　　　　　★■\n",
            "■■■■■■■■■■■■■■■■■■■■■\n"
          ]
        }
      ]
    },
    {
      "cell_type": "code",
      "source": [
        ""
      ],
      "metadata": {
        "id": "4NOmufeLtfvg"
      },
      "execution_count": null,
      "outputs": []
    }
  ]
}