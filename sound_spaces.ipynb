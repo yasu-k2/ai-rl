{
  "nbformat": 4,
  "nbformat_minor": 0,
  "metadata": {
    "colab": {
      "name": "sound-spaces.ipynb",
      "provenance": [],
      "collapsed_sections": [],
      "machine_shape": "hm",
      "authorship_tag": "ABX9TyOcaxIsTqrUpWeXKEQW3F+/",
      "include_colab_link": true
    },
    "kernelspec": {
      "name": "python3",
      "display_name": "Python 3"
    },
    "language_info": {
      "name": "python"
    },
    "accelerator": "GPU"
  },
  "cells": [
    {
      "cell_type": "markdown",
      "metadata": {
        "id": "view-in-github",
        "colab_type": "text"
      },
      "source": [
        "<a href=\"https://colab.research.google.com/github/yasu-k2/multimodal-active-inference/blob/main/sound_spaces.ipynb\" target=\"_parent\"><img src=\"https://colab.research.google.com/assets/colab-badge.svg\" alt=\"Open In Colab\"/></a>"
      ]
    },
    {
      "cell_type": "markdown",
      "source": [
        "# SoundSpaces\n",
        "\n",
        "[web site](https://soundspaces.org/)\n",
        "\n",
        "[main repo](https://github.com/facebookresearch/sound-spaces)\n"
      ],
      "metadata": {
        "id": "iO5YhHicXS5q"
      }
    },
    {
      "cell_type": "markdown",
      "source": [
        "## Description\n",
        "\n",
        "- Tasks\n",
        "  - PointGoal\n",
        "  - AudioGoal\n",
        "  - AudioPointGoal\n",
        "\n",
        "- [Challenge](https://github.com/facebookresearch/soundspaces-challenge)\n",
        "  - AudioNav Task\n",
        "  - Metric is ['Success weighted by Path Length' (SPL)](https://eval.ai/web/challenges/challenge-page/1621/evaluation)\n",
        "\n",
        "- Datasets\n",
        "  - **[Replica-Dataset (Replica Dataset v1)](https://github.com/facebookresearch/Replica-Dataset)**\n",
        "    - 18 scenes\n",
        "      - **apartment 0-2**\n",
        "      - office 0-4\n",
        "      - room 0-2\n",
        "      - hotel 0\n",
        "      - FRL apartment 0-5\n",
        "    - ReplicaSDK\n",
        "      - ReplicaViewer\n",
        "      - ReplicaRenderer\n",
        "    - Smaller in size\n",
        "    - download script [available](https://raw.githubusercontent.com/facebookresearch/Replica-Dataset/main/download.sh)\n",
        "  - [Matterport3D](https://niessner.github.io/Matterport/)\n",
        "    - 90 scenes\n",
        "    - Used for challenge\n",
        "    - Need to request access\n",
        "  - cf. Keep dataset size < 100GB for Colab.\n",
        "\n",
        "- Data\n",
        "  - audio renderings (room impulse responses; RIRs), 867GB\n",
        "    - Replica\n",
        "      - full binaural, 81GB\n",
        "    - Matterport\n",
        "      - full binaural, 682GB\n",
        "      - full ambisonic, 3.6T\n",
        "  - metadata of each scene, 1MB\n",
        "  - episode datasets, 77MB -> 115MB\n",
        "  - mono sound files, 13MB -> 640MB\n",
        "  - pretrained weights, 303MB\n",
        "\n",
        "- Baselines\n",
        "  - `av-nav` Audio-Visual Navigation (AV-Nav) Model\n",
        "  - `av-wan` Audio-Visual Waypoints (AV-WaN) Model\n",
        "  - `savi` Semantic Audio-Visual Navigation (SAVi) Model\n"
      ],
      "metadata": {
        "id": "Xw953R6ued6W"
      }
    },
    {
      "cell_type": "markdown",
      "source": [
        "## Installation\n",
        "\n",
        "The entire process took around 1.5 hours in colab.\n",
        "\n",
        "### habitat-sim (v0.1.7)\n",
        "\n",
        "- simulator for embodied AI\n",
        "- requires Python>=3.7.\n",
        "- latest: v0.2.1\n",
        "\n",
        "```\n",
        "!conda create -n habitat python=3.7 cmake=3.14.0\n",
        "!conda activate habitat\n",
        "# Installation for a machine without an attached display\n",
        "!conda install habitat-sim=0.1.7 withbullet headless -c conda-forge -c aihabitat\n",
        "```\n",
        "\n",
        "Test habitat-sim installation (options incl. --enable_physics, --save_png)\n",
        "```\n",
        "!python habitat-sim/examples/example.py --scene /data/scene_datasets/habitat-test-scenes/skokloster-castle.glb\n",
        "```\n",
        "\n",
        "### habitat-lab (v0.1.7)\n",
        "\n",
        "- embodied AI tasks and agents\n",
        "- `Env`, `Dataset`, `Episode`, `Task`, `Sensor`, `Observation`\n",
        "- requires Python>=3.7. Python 3.7 preferred.\n",
        "- latest: v0.2.1\n",
        "\n",
        "```\n",
        "!git clone https://github.com/facebookresearch/habitat-lab.git --branch v0.1.7\n",
        "!cd habitat-lab\n",
        "# Install only core of Habitat Lab\n",
        "!pip install -e .\n",
        "# Include habitat_baselines (PPO, SLAM, utilities)\n",
        "!pip install -r requirements.txt\n",
        "!python setup.py develop --all\n",
        "```\n",
        "\n",
        "Test habitat-lab installation\n",
        "```\n",
        "!python habitat-lab/examples/example.py\n",
        "```\n",
        "\n",
        "### Helper script and settings\n",
        "\n",
        "Installation script based on [`conda_install.sh`](https://github.com/facebookresearch/habitat-sim/blob/main/examples/colab_utils/colab_install.sh) from official repo and settings from official examples for [habitat-sim](https://github.com/facebookresearch/habitat-sim/blob/main/examples/tutorials/colabs/) and [habitat-lab](https://github.com/facebookresearch/habitat-lab/blob/main/examples/tutorials/colabs/)."
      ],
      "metadata": {
        "id": "eGTZhSrlXYm8"
      }
    },
    {
      "cell_type": "code",
      "source": [
        "!curl -L https://raw.githubusercontent.com/yasu-k2/multimodal-active-inference/main/colab_install_habitat.sh | bash -s"
      ],
      "metadata": {
        "id": "jR44wb7doqX6"
      },
      "execution_count": null,
      "outputs": []
    },
    {
      "cell_type": "code",
      "source": [
        "%cd /content/habitat-sim"
      ],
      "metadata": {
        "id": "zByiqoPubB3g"
      },
      "execution_count": null,
      "outputs": []
    },
    {
      "cell_type": "code",
      "source": [
        "# !wget -c http://dl.fbaipublicfiles.com/habitat/habitat-test-scenes.zip && unzip -o habitat-test-scenes.zip\n",
        "## !wget -c http://dl.fbaipublicfiles.com/habitat/objects_v0.2.zip && unzip -o objects_v0.2.zip -d data/objects/\n",
        "## !wget -c http://dl.fbaipublicfiles.com/habitat/locobot_merged_v0.2.zip && unzip -o locobot_merged_v0.2.zip -d data/objects"
      ],
      "metadata": {
        "id": "2az68tXYnqHX"
      },
      "execution_count": null,
      "outputs": []
    },
    {
      "cell_type": "code",
      "source": [
        "#!rm habitat-test-scenes.zip\n",
        "## !rm objects_v0.2.zip\n",
        "## !rm locobot_merged_v0.2.zip"
      ],
      "metadata": {
        "id": "EfuCy-B3A40N"
      },
      "execution_count": null,
      "outputs": []
    },
    {
      "cell_type": "code",
      "source": [
        "# !python examples/example.py --scene data/scene_datasets/habitat-test-scenes/skokloster-castle.glb"
      ],
      "metadata": {
        "id": "aJCU7uhjlXja"
      },
      "execution_count": null,
      "outputs": []
    },
    {
      "cell_type": "code",
      "source": [
        "%cd /content/habitat-lab"
      ],
      "metadata": {
        "id": "-uN9-3eHbDXQ"
      },
      "execution_count": null,
      "outputs": []
    },
    {
      "cell_type": "code",
      "source": [
        "# Some errors with habitat_baselines\n",
        "# !python setup.py test"
      ],
      "metadata": {
        "id": "TqeZxmgClYVm"
      },
      "execution_count": null,
      "outputs": []
    },
    {
      "cell_type": "code",
      "source": [
        "# !python examples/example.py"
      ],
      "metadata": {
        "id": "tYGct0gkn1M2"
      },
      "execution_count": null,
      "outputs": []
    },
    {
      "cell_type": "code",
      "source": [
        "# !python examples/benchmark.py"
      ],
      "metadata": {
        "id": "Pjt2T32in2m5"
      },
      "execution_count": null,
      "outputs": []
    },
    {
      "cell_type": "code",
      "source": [
        "%cd /content/habitat-sim"
      ],
      "metadata": {
        "id": "W0HPn6yYvgl5"
      },
      "execution_count": null,
      "outputs": []
    },
    {
      "cell_type": "markdown",
      "source": [
        "```bash\n",
        "# !pip uninstall --yes pyopenssl\n",
        "# !pip install pyopenssl\n",
        "```\n",
        "\n",
        "```python\n",
        "# reload the cffi version\n",
        "# import sys\n",
        "# if \"google.colab\" in sys.modules:\n",
        "#     import importlib\n",
        "#     import cffi\n",
        "#     importlib.reload(cffi)\n",
        "```\n",
        "\n",
        "```python\n",
        "import math\n",
        "import os\n",
        "import random\n",
        "import sys\n",
        "\n",
        "import git\n",
        "import imageio\n",
        "import magnum as mn\n",
        "import numpy as np\n",
        "%matplotlib inline\n",
        "from matplotlib import pyplot as plt\n",
        "from PIL import Image\n",
        "\n",
        "# You need to restart runtime before importing habitat\n",
        "import habitat\n",
        "import habitat_sim\n",
        "\n",
        "try:\n",
        "    import ipywidgets as widgets\n",
        "    from IPython.display import display as ipydisplay\n",
        "    # For using jupyter/ipywidget IO components\n",
        "    HAS_WIDGETS = True\n",
        "except ImportError:\n",
        "    HAS_WIDGETS = False\n",
        "\n",
        "if \"google.colab\" in sys.modules:\n",
        "    os.environ[\"IMAGEIO_FFMPEG_EXE\"] = \"/usr/bin/ffmpeg\"\n",
        "\n",
        "repo = git.Repo(\".\", search_parent_directories=True)\n",
        "dir_path = repo.working_tree_dir\n",
        "%cd $dir_path\n",
        "\n",
        "data_path = os.path.join(dir_path, \"data\")\n",
        "output_directory = \"output/\"  ## Based on your preference\n",
        "output_path = os.path.join(dir_path, output_directory)\n",
        "if not os.path.exists(output_path):\n",
        "    os.mkdir(output_path)\n",
        "\n",
        "# define some globals the first time we run.\n",
        "if \"sim\" not in globals():\n",
        "    global sim\n",
        "    sim = None\n",
        "    global obj_attr_mgr\n",
        "    obj_attr_mgr = None\n",
        "    global prim_attr_mgr\n",
        "    obj_attr_mgr = None\n",
        "    global stage_attr_mgr\n",
        "    stage_attr_mgr = None\n",
        "    global rigid_obj_mgr\n",
        "    rigid_obj_mgr = None\n",
        "```"
      ],
      "metadata": {
        "id": "qAids0F_3v5y"
      }
    },
    {
      "cell_type": "markdown",
      "source": [
        "## Install SoundSpaces"
      ],
      "metadata": {
        "id": "EvFIElCjvG4q"
      }
    },
    {
      "cell_type": "code",
      "source": [
        "%cd /content"
      ],
      "metadata": {
        "id": "7EWG2ZwTvntN"
      },
      "execution_count": null,
      "outputs": []
    },
    {
      "cell_type": "code",
      "source": [
        "!git clone https://github.com/facebookresearch/sound-spaces.git"
      ],
      "metadata": {
        "id": "7FVOWDH0evMu"
      },
      "execution_count": null,
      "outputs": []
    },
    {
      "cell_type": "code",
      "source": [
        "%cd sound-spaces"
      ],
      "metadata": {
        "id": "M0u_d0Cee8cV"
      },
      "execution_count": null,
      "outputs": []
    },
    {
      "cell_type": "code",
      "source": [
        "!pip install -e ."
      ],
      "metadata": {
        "id": "ziciR87ofALv"
      },
      "execution_count": null,
      "outputs": []
    },
    {
      "cell_type": "markdown",
      "source": [
        "## Download dataset"
      ],
      "metadata": {
        "id": "5l9vbsLbqOWe"
      }
    },
    {
      "cell_type": "code",
      "source": [
        "!mkdir data"
      ],
      "metadata": {
        "id": "pcelQkArqN5u"
      },
      "execution_count": null,
      "outputs": []
    },
    {
      "cell_type": "code",
      "source": [
        "%cd data"
      ],
      "metadata": {
        "id": "0PVljSd-xGgE"
      },
      "execution_count": null,
      "outputs": []
    },
    {
      "cell_type": "code",
      "source": [
        "# !wget http://dl.fbaipublicfiles.com/SoundSpaces/binaural_rirs.tar && tar xvf binaural_rirs.tar\n",
        "!wget http://dl.fbaipublicfiles.com/SoundSpaces/metadata.tar.xz && tar xvf metadata.tar.xz\n",
        "!wget http://dl.fbaipublicfiles.com/SoundSpaces/sounds.tar.xz && tar xvf sounds.tar.xz\n",
        "!wget http://dl.fbaipublicfiles.com/SoundSpaces/datasets.tar.xz && tar xvf datasets.tar.xz\n",
        "!wget http://dl.fbaipublicfiles.com/SoundSpaces/pretrained_weights.tar.xz && tar xvf pretrained_weights.tar.xz"
      ],
      "metadata": {
        "id": "pES-IYmyxJg5"
      },
      "execution_count": null,
      "outputs": []
    },
    {
      "cell_type": "code",
      "source": [
        "# !rm binaural_rirs.tar\n",
        "!rm metadata.tar.xz\n",
        "!rm sounds.tar.xz\n",
        "!rm datasets.tar.xz\n",
        "!rm pretrained_weights.tar.xz"
      ],
      "metadata": {
        "id": "g1gvoD5fBfCD"
      },
      "execution_count": null,
      "outputs": []
    },
    {
      "cell_type": "code",
      "source": [
        "# Replica-Dataset\n",
        "!apt-get install pigz"
      ],
      "metadata": {
        "id": "DjZSafMwxT8D"
      },
      "execution_count": null,
      "outputs": []
    },
    {
      "cell_type": "code",
      "source": [
        "# replica_v1_0.tar.gz.partaa ~ .partap 1.86GB, .partaq 1.73GB -> 17 files (31.5GB) in total, takes about 45min to download\n",
        "# -> 43GB after extraction\n",
        "!curl -L https://raw.githubusercontent.com/yasu-k2/multimodal-active-inference/main/download_replica.sh | bash -s "
      ],
      "metadata": {
        "id": "Cmf_yoRj5bv0"
      },
      "execution_count": null,
      "outputs": []
    },
    {
      "cell_type": "code",
      "source": [
        "!rm replica_v1_0.tar.gz.parta*"
      ],
      "metadata": {
        "id": "FMz-k9A9Bm7N"
      },
      "execution_count": null,
      "outputs": []
    },
    {
      "cell_type": "code",
      "source": [
        "%cd data"
      ],
      "metadata": {
        "id": "wV39NyzyPKmM"
      },
      "execution_count": null,
      "outputs": []
    },
    {
      "cell_type": "code",
      "source": [
        "!rm -r room_0 room_1 room_2\n",
        "!rm -r office_0 office_1 office_2 office_3 office_4\n",
        "!rm -r hotel_0\n",
        "!rm -r frl_apartment_0 frl_apartment_1 frl_apartment_2 frl_apartment_3 frl_apartment_4 frl_apartment_5"
      ],
      "metadata": {
        "id": "2tSVCz93PIG6"
      },
      "execution_count": null,
      "outputs": []
    },
    {
      "cell_type": "code",
      "source": [
        "%cd .."
      ],
      "metadata": {
        "id": "eLus48owPPUg"
      },
      "execution_count": null,
      "outputs": []
    },
    {
      "cell_type": "code",
      "source": [
        "%cd metadata/replica/"
      ],
      "metadata": {
        "id": "W_JrfAnaPpHp"
      },
      "execution_count": null,
      "outputs": []
    },
    {
      "cell_type": "code",
      "source": [
        "!rm -r room_0 room_1 room_2\n",
        "!rm -r office_0 office_1 office_2 office_3 office_4\n",
        "!rm -r hotel_0\n",
        "!rm -r frl_apartment_0 frl_apartment_1 frl_apartment_2 frl_apartment_3 frl_apartment_4 frl_apartment_5"
      ],
      "metadata": {
        "id": "Qn-TKdjhPvbc"
      },
      "execution_count": null,
      "outputs": []
    },
    {
      "cell_type": "code",
      "source": [
        "%cd ../.."
      ],
      "metadata": {
        "id": "Ay58yuuzPtyA"
      },
      "execution_count": null,
      "outputs": []
    },
    {
      "cell_type": "code",
      "source": [
        "# Matterport3D"
      ],
      "metadata": {
        "id": "P-CqnRBS5QKy"
      },
      "execution_count": null,
      "outputs": []
    },
    {
      "cell_type": "code",
      "source": [
        "%cd metadata/mp3d/"
      ],
      "metadata": {
        "id": "sKKKXpIqRQFM"
      },
      "execution_count": null,
      "outputs": []
    },
    {
      "cell_type": "code",
      "source": [
        "!rm -r *"
      ],
      "metadata": {
        "id": "MokqMYFKRXaC"
      },
      "execution_count": null,
      "outputs": []
    },
    {
      "cell_type": "code",
      "source": [
        "%cd ../.."
      ],
      "metadata": {
        "id": "wR0bZCTKRl0E"
      },
      "execution_count": null,
      "outputs": []
    },
    {
      "cell_type": "code",
      "source": [
        "# Organize relevant files > FROM HERE\n",
        "%cd /content/sound-spaces/data"
      ],
      "metadata": {
        "id": "1wj4abMUQcPE"
      },
      "execution_count": null,
      "outputs": []
    },
    {
      "cell_type": "code",
      "source": [
        "!rm -r datasets/audionav/mp3d/\n",
        "!rm -r datasets/semantic_audionav/mp3d/\n",
        "!rm -r metadata/mp3d/\n",
        "!rm -r pretrained_weights/audionav/av_nav/mp3d/\n",
        "!rm -r pretrained_weights/audionav/av_wan/mp3d/\n",
        "# !rm -r pretrained_weights/semantic_audionav/\n",
        "# !rm -r sounds/semantic_splits/"
      ],
      "metadata": {
        "id": "unJoj0XeRAJC"
      },
      "execution_count": null,
      "outputs": []
    },
    {
      "cell_type": "code",
      "source": [
        "!rm -r datasets/audionav/replica/v1"
      ],
      "metadata": {
        "id": "vMzbGRq2pO28"
      },
      "execution_count": null,
      "outputs": []
    },
    {
      "cell_type": "code",
      "source": [
        "!du -sh"
      ],
      "metadata": {
        "id": "KJnZDl5iRCfC"
      },
      "execution_count": null,
      "outputs": []
    },
    {
      "cell_type": "code",
      "source": [
        "%cd /content"
      ],
      "metadata": {
        "id": "84aHNjDlpwTs"
      },
      "execution_count": null,
      "outputs": []
    },
    {
      "cell_type": "code",
      "source": [
        "!git clone https://github.com/yasu-k2/multimodal-active-inference.git\n",
        "# %cd multimodal-active-inference/\n",
        "# !git pull origin main\n",
        "# %cd .."
      ],
      "metadata": {
        "id": "vB2_xYGZpyWx"
      },
      "execution_count": null,
      "outputs": []
    },
    {
      "cell_type": "code",
      "source": [
        "!cp -R multimodal-active-inference/datasets/audionav/replica/v1 sound-spaces/data/datasets/audionav/replica/"
      ],
      "metadata": {
        "id": "cCUW1sOdp0xp"
      },
      "execution_count": null,
      "outputs": []
    },
    {
      "cell_type": "code",
      "source": [
        "%cd /content/sound-spaces/data\n",
        "# TO HERE < Organize relevant files"
      ],
      "metadata": {
        "id": "2wJ2VUKoQvTN"
      },
      "execution_count": null,
      "outputs": []
    },
    {
      "cell_type": "code",
      "source": [
        "%cd .."
      ],
      "metadata": {
        "id": "3h5TLbmmxVZA"
      },
      "execution_count": null,
      "outputs": []
    },
    {
      "cell_type": "code",
      "source": [
        "!pwd"
      ],
      "metadata": {
        "id": "3fRldScl6EOm"
      },
      "execution_count": null,
      "outputs": []
    },
    {
      "cell_type": "markdown",
      "source": [
        "```bash\n",
        "# Download full RIRs\n",
        "!python scripts/download_data.py --dataset mp3d --rir-type binaural_rirs\n",
        "!python scripts/download_data.py --dataset replica --rir-type binaural_rirs\n",
        "```"
      ],
      "metadata": {
        "id": "RDm_TlQVPGWq"
      }
    },
    {
      "cell_type": "code",
      "source": [
        "import os\n",
        "from scripts.download_data import download_and_uncompress\n",
        "\n",
        "output_dir = 'data'\n",
        "dataset = 'replica'  # 'mp3d', 'replica'\n",
        "rir_type = 'binaural_rirs'  # 'binaural_rirs', 'ambisonic_rirs'\n",
        "\n",
        "dataset_rir_dir = os.path.join(output_dir, rir_type, dataset)\n",
        "aws_root_dir = 'http://dl.fbaipublicfiles.com/SoundSpaces/'\n",
        "# Select subset of available scenes\n",
        "scenes = os.listdir(os.path.join('data/metadata/', dataset))\n",
        "print(scenes)"
      ],
      "metadata": {
        "id": "7qRveuwe3XcO"
      },
      "execution_count": null,
      "outputs": []
    },
    {
      "cell_type": "code",
      "source": [
        "# scenes = ['apartment_0', 'apartment_1', 'apartment_2']\n",
        "for scene in scenes:\n",
        "  scene_file = os.path.join(aws_root_dir, rir_type, dataset, scene + '.tar.gz')\n",
        "  if os.path.exists(os.path.join(dataset_rir_dir, scene)):\n",
        "    continue\n",
        "  else:\n",
        "    download_and_uncompress(scene_file, output_dir)"
      ],
      "metadata": {
        "id": "kC6EmJSdB0RC"
      },
      "execution_count": null,
      "outputs": []
    },
    {
      "cell_type": "markdown",
      "source": [
        "```python\n",
        "from scripts.cache_observations import main\n",
        "# Iterate over scenes in metadata dir and cache observations\n",
        "#   default config path is 'ss_baselines/av_nav/config/audionav/{}/train_telephone/pointgoal_rgb.yaml'.format(dataset)\n",
        "#   config.TASK_CONFIG.SIMULATOR.AGENT_0.SENSORS = [\"RGB_SENSOR\", \"DEPTH_SENSOR\"]\n",
        "#   config.TASK_CONFIG.SIMULATOR.USE_RENDERED_OBSERVATIONS = False\n",
        "print('Caching Replica observations ...')\n",
        "main('replica')\n",
        "print('Caching Matterport3D observations ...')\n",
        "main('mp3d')\n",
        "```"
      ],
      "metadata": {
        "id": "_P2DQQ70PMaY"
      }
    },
    {
      "cell_type": "code",
      "source": [
        "!mkdir data/scene_datasets\n",
        "!mv data/data data/scene_datasets/replica"
      ],
      "metadata": {
        "id": "TgMCGhVMxC5T"
      },
      "execution_count": null,
      "outputs": []
    },
    {
      "cell_type": "code",
      "source": [
        "!sed -i -e \"/.*Matterport3D.*/d\" scripts/cache_observations.py\n",
        "!sed -i -e \"/.*mp3d.*/d\" scripts/cache_observations.py"
      ],
      "metadata": {
        "id": "0P4mrWjoYK0G"
      },
      "execution_count": null,
      "outputs": []
    },
    {
      "cell_type": "code",
      "source": [
        "# Cache observations\n",
        "!python scripts/cache_observations.py --config-path ss_baselines/av_nav/config/audionav/replica/train_telephone/pointgoal_rgb.yaml\n",
        "!python scripts/cache_observations.py --config-path ss_baselines/av_nav/config/audionav/replica/val_telephone/pointgoal_rgb.yaml\n",
        "!python scripts/cache_observations.py --config-path ss_baselines/av_nav/config/audionav/replica/test_telephone/pointgoal_rgb.yaml"
      ],
      "metadata": {
        "id": "8ClbYPJlxcKF"
      },
      "execution_count": null,
      "outputs": []
    },
    {
      "cell_type": "markdown",
      "source": [
        "## Test SoundSpaces"
      ],
      "metadata": {
        "id": "0H_wOi6evOm3"
      }
    },
    {
      "cell_type": "markdown",
      "source": [
        "1. Training\n",
        "\n",
        "```bash\n",
        "!python ss_baselines/av_nav/run.py \\\n",
        "  --exp-config ss_baselines/av_nav/config/audionav/replica/train_telephone/audiogoal_depth.yaml \\\n",
        "  --model-dir data/models/replica/audiogoal_depth\n",
        "````\n",
        "\n",
        "2. Validation\n",
        "\n",
        "```bash\n",
        "# EDIT ckpt.XXX.pth\n",
        "!python ss_baselines/av_nav/run.py \\\n",
        "  --run-type eval \\\n",
        "  --exp-config ss_baselines/av_nav/config/audionav/replica/val_telephone/audiogoal_depth.yaml \\\n",
        "  --model-dir data/models/replica/audiogoal_depth\n",
        "```\n",
        "\n",
        "3. Test the best validation checkpoint based on validation curve\n",
        "\n",
        "```bash\n",
        "# EDIT ckpt.XXX.pth\n",
        "!python ss_baselines/av_nav/run.py \\\n",
        "  --run-type eval \\\n",
        "  --exp-config ss_baselines/av_nav/config/audionav/replica/test_telephone/audiogoal_depth.yaml \\\n",
        "  --model-dir data/models/replica/audiogoal_depth \\\n",
        "  EVAL_CKPT_PATH_DIR data/models/replica/audiogoal_depth/data/ckpt.XXX.pth\n",
        "```\n",
        "\n",
        "4. Generate demo video\n",
        "\n",
        "```bash\n",
        "# EDIT ckpt.XXX.pth\n",
        "!python ss_baselines/av_nav/run.py \\\n",
        "  --run-type eval \\\n",
        "  --exp-config ss_baselines/av_nav/config/audionav/replica/test_telephone/audiogoal_depth.yaml \\\n",
        "  --model-dir data/models/replica/audiogoal_depth \\\n",
        "  EVAL_CKPT_PATH_DIR data/models/replica/audiogoal_depth/data/ckpt.XXX.pth \\\n",
        "  VIDEO_OPTION [\\\"disk\\\"] \\\n",
        "  TASK_CONFIG.SIMULATOR.USE_RENDERED_OBSERVATIONS False \\\n",
        "  TASK_CONFIG.TASK.SENSORS [\\\"POINTGOAL_WITH_GPS_COMPASS_SENSOR\\\",\\\"SPECTROGRAM_SENSOR\\\",\\\"AUDIOGOAL_SENSOR\\\"] \\\n",
        "  SENSORS [\\\"RGB_SENSOR\\\",\\\"DEPTH_SENSOR\\\"] \\\n",
        "  EXTRA_RGB True \\\n",
        "  TASK_CONFIG.SIMULATOR.CONTINUOUS_VIEW_CHANGE True \\\n",
        "  DISPLAY_RESOLUTION 512 \\\n",
        "  TEST_EPISODE_COUNT 1\n",
        "```\n",
        "\n",
        "5. Evaluating the pretrained model\n",
        "\n",
        "```bash\n",
        "!python ss_baselines/av_nav/run.py \\\n",
        "  --run-type eval \\\n",
        "  --exp-config ss_baselines/av_nav/config/audionav/replica/test_telephone/audiogoal_depth.yaml \\\n",
        "  EVAL_CKPT_PATH_DIR data/pretrained_weights/audionav/av_nav/replica/heard.pth\n",
        "!python ss_baselines/av_nav/run.py \\\n",
        "  --run-type eval \\\n",
        "  --exp-config ss_baselines/av_nav/config/audionav/replica/test_telephone/audiogoal_depth.yaml \\\n",
        "  EVAL_CKPT_PATH_DIR data/pretrained_weights/audionav/av_nav/replica/unheard.pth \\\n",
        "  EVAL.SPLIT test_multiple_unheard\n",
        "```\n",
        "\n",
        "6. Interactive demo\n",
        "\n",
        "```bash\n",
        "!python scripts/interactive_demo.py\n",
        "```"
      ],
      "metadata": {
        "id": "hvs2FNGFfi9E"
      }
    },
    {
      "cell_type": "code",
      "source": [
        "!sed -i -e \"s/.*'apartment_0'.*/REPLICA_SCENES = ['apartment_0', 'apartment_1', 'apartment_2']/g\" ss_baselines/common/env_utils.py\n",
        "!sed -i -e \"/.*'frl_apartment_3'.*/d\" ss_baselines/common/env_utils.py\n",
        "!sed -i -e \"/.*'office_3'.*/d\" ss_baselines/common/env_utils.py\n",
        "\n",
        "!sed -i -e \"s/CONTENT_SCENES:.*]/CONTENT_SCENES: ['apartment_0', 'apartment_1', 'apartment_2']/\" configs/audionav/av_nav/replica/audiogoal.yaml\n",
        "\n",
        "!sed -i -e \"s/NUM_PROCESSES.*/NUM_PROCESSES: 1/g\" ss_baselines/av_nav/config/audionav/replica/train_telephone/audiogoal_depth.yaml"
      ],
      "metadata": {
        "id": "3jjf1nPmaTSg"
      },
      "execution_count": null,
      "outputs": []
    },
    {
      "cell_type": "code",
      "source": [
        "!python ss_baselines/av_nav/run.py --exp-config ss_baselines/av_nav/config/audionav/replica/train_telephone/audiogoal_depth.yaml --model-dir data/models/replica/audiogoal_depth"
      ],
      "metadata": {
        "id": "N90t77r6f_SL"
      },
      "execution_count": null,
      "outputs": []
    },
    {
      "cell_type": "code",
      "source": [
        "# !python ss_baselines/av_nav/run.py --run-type eval --exp-config ss_baselines/av_nav/config/audionav/replica/val_telephone/audiogoal_depth.yaml --model-dir data/models/replica/audiogoal_depth"
      ],
      "metadata": {
        "id": "GOU3g5z7yNeV"
      },
      "execution_count": null,
      "outputs": []
    },
    {
      "cell_type": "code",
      "source": [
        "## !python ss_baselines/av_nav/run.py --run-type eval --exp-config ss_baselines/av_nav/config/audionav/replica/test_telephone/audiogoal_depth.yaml --model-dir data/models/replica/audiogoal_depth --eval-best\n",
        "# !python ss_baselines/av_nav/run.py --run-type eval --exp-config ss_baselines/av_nav/config/audionav/replica/test_telephone/audiogoal_depth.yaml --model-dir data/models/replica/audiogoal_depth EVAL_CKPT_PATH_DIR data/models/replica/audiogoal_depth/data/ckpt.0.pth"
      ],
      "metadata": {
        "id": "HcaEq3SGywsv"
      },
      "execution_count": null,
      "outputs": []
    },
    {
      "cell_type": "code",
      "source": [
        "## !python ss_baselines/av_nav/run.py --run-type eval --exp-config ss_baselines/av_nav/config/audionav/replica/test_telephone/audiogoal_depth.yaml --model-dir data/models/replica/audiogoal_depth --eval-best VIDEO_OPTION [\\\"disk\\\"] TASK_CONFIG.SIMULATOR.USE_RENDERED_OBSERVATIONS False TASK_CONFIG.TASK.SENSORS [\\\"POINTGOAL_WITH_GPS_COMPASS_SENSOR\\\",\\\"SPECTROGRAM_SENSOR\\\",\\\"AUDIOGOAL_SENSOR\\\"] SENSORS [\\\"RGB_SENSOR\\\",\\\"DEPTH_SENSOR\\\"] EXTRA_RGB True TASK_CONFIG.SIMULATOR.CONTINUOUS_VIEW_CHANGE True DISPLAY_RESOLUTION 512 TEST_EPISODE_COUNT 1\n",
        "# !python ss_baselines/av_nav/run.py --run-type eval --exp-config ss_baselines/av_nav/config/audionav/replica/test_telephone/audiogoal_depth.yaml --model-dir data/models/replica/audiogoal_depth EVAL_CKPT_PATH_DIR data/models/replica/audiogoal_depth/data/ckpt.0.pth VIDEO_OPTION [\\\"disk\\\"] TASK_CONFIG.SIMULATOR.USE_RENDERED_OBSERVATIONS False TASK_CONFIG.TASK.SENSORS [\\\"POINTGOAL_WITH_GPS_COMPASS_SENSOR\\\",\\\"SPECTROGRAM_SENSOR\\\",\\\"AUDIOGOAL_SENSOR\\\"] SENSORS [\\\"RGB_SENSOR\\\",\\\"DEPTH_SENSOR\\\"] EXTRA_RGB True TASK_CONFIG.SIMULATOR.CONTINUOUS_VIEW_CHANGE True DISPLAY_RESOLUTION 512 TEST_EPISODE_COUNT 1"
      ],
      "metadata": {
        "id": "bPLu4g9izQwZ"
      },
      "execution_count": null,
      "outputs": []
    },
    {
      "cell_type": "code",
      "source": [
        "!python ss_baselines/av_nav/run.py --run-type eval --exp-config ss_baselines/av_nav/config/audionav/replica/val_telephone/audiogoal_depth.yaml EVAL_CKPT_PATH_DIR data/pretrained_weights/audionav/av_nav/replica/heard.pth\n",
        "# !python ss_baselines/av_nav/run.py --run-type eval --exp-config ss_baselines/av_nav/config/audionav/replica/test_telephone/audiogoal_depth.yaml EVAL_CKPT_PATH_DIR data/pretrained_weights/audionav/av_nav/replica/heard.pth\n",
        "## !python ss_baselines/av_nav/run.py --run-type eval --exp-config ss_baselines/av_nav/config/audionav/replica/test_telephone/audiogoal_depth.yaml EVAL_CKPT_PATH_DIR data/pretrained_weights/audionav/av_nav/replica/unheard.pth EVAL.SPLIT test_multiple_unheard"
      ],
      "metadata": {
        "id": "e9LjU9XRwF03"
      },
      "execution_count": null,
      "outputs": []
    },
    {
      "cell_type": "markdown",
      "source": [
        "## Implementing a new agent"
      ],
      "metadata": {
        "id": "AirYIaPYpQsr"
      }
    },
    {
      "cell_type": "markdown",
      "source": [
        "1. Simple agent\n",
        "\n",
        "You can use the `RandomAgent()` in [`simple_agents.py`](https://github.com/facebookresearch/sound-spaces/blob/main/ss_baselines/common/simple_agents.py) included in `ss_baselines` as an example of implementing a relatively simple agent.It shows that you only need to implement an agent class inheriting `habitat.Agent` with your original `__init__()`, `reset()`, `is_goal_reached()`, and `act()` method inside the script. This script takes arguments of `task_config`(default `configs/tasks/pointnav.yaml`. I think this is supposed to be something like [`configs/audionav/av_nav/replica/pointgoal.yaml`](https://github.com/facebookresearch/sound-spaces/blob/main/configs/audionav/av_nav/replica/pointgoal.yaml)) to construct the task and `success_distance`(default `0.2`) and `agent_class`(default `RandomAgent`) for instantiating your agent, so specify according to your setup.\n",
        "\n",
        "The evaluation happens in the `evaluate()` method of `Benchmark()` class defined in [`benchmark.py`](https://github.com/facebookresearch/sound-spaces/blob/main/ss_baselines/common/benchmark.py). The code corresponding to one episode is [here](https://github.com/facebookresearch/sound-spaces/blob/f11fef81db0c6b05d42fd062faa4929195de4ddf/ss_baselines/common/benchmark.py#L80-L98).\n",
        "\n",
        "2. Sophisticated agent\n",
        "\n",
        "If you opt for sophisticated agents, you can refer to the structure of the baseline agents in `ss_baselines` such as [`av_nav`](https://github.com/facebookresearch/sound-spaces/tree/main/ss_baselines/av_nav). The scripts in **bold** are the main points of modification.\n",
        "\n",
        "- `config/`\n",
        "  - **`audionav/`** This directory contains experiment configs specifying task, model parameters, and training options for each of train & val & test.\n",
        "  - `__init__.py` Imports from `default`.\n",
        "  - **`default.py`** Defines defaults for experiment config and task config.\n",
        "- `models/` Defines neural network components.\n",
        "- `ppo/`\n",
        "  - `policy.py` Defines policy module with neural network components.\n",
        "  - `ppo.py` Defines PPO module.\n",
        "  - **`ppo_trainer.py`** Defines trainer implementing `train()` and `eval()` for PPO inheriting from [`BaseRLTrainer`](https://github.com/facebookresearch/sound-spaces/blob/f11fef81db0c6b05d42fd062faa4929195de4ddf/ss_baselines/common/base_trainer.py#L42).\n",
        "- `__init__.py` Imports from `ppo.ppo_trainer`.\n",
        "- **`run.py`** Main script for running experiments.It calls `train()` or `eval()` method of the trainer. Specify the appropriate experiment configs with your desired task config. (p.s. The help strings are partially incorrect.)"
      ],
      "metadata": {
        "id": "xFbwd05vpdDv"
      }
    },
    {
      "cell_type": "markdown",
      "source": [
        "For your reference\n",
        "- `run.py`\n",
        "  - exp_config [`audiogoal_depth.yaml`](https://github.com/facebookresearch/sound-spaces/blob/main/ss_baselines/av_nav/config/audionav/replica/train_telephone/audiogoal_depth.yaml)\n",
        "    - BASE_TASK_CONFIG [`audiogoal.yaml`](https://github.com/facebookresearch/sound-spaces/blob/main/configs/audionav/av_nav/replica/audiogoal.yaml)\n",
        "      - ENVIRONMENT\n",
        "      - SIMULATOR\n",
        "        - HABITAT_SIM_V0\n",
        "          - GPU_DEVICE_ID: `0`\n",
        "        - TYPE: `\"SoundSpacesSim\"`\n",
        "        - ACTION_SPACE_CONFIG: `\"v0\"`\n",
        "        - SCENE_DATASET: `\"replica\"`\n",
        "      - TASK\n",
        "        - TYPE: `AudioNav`\n",
        "      - DATASET\n",
        "        - TYPE: `\"AudioNav\"`\n",
        "        - SPLIT: `\"train_telephone\"`\n",
        "        - CONTENT_SCENES: `[\"*\"]`\n",
        "          - `ss_baselines.common.env_utils`\n",
        "          - `habitat.datasets.registration`\n",
        "            - `habitat.datasets.pointnav.pointnav_dataset`\n",
        "              - `habitat.core.dataset`\n",
        "        - VERSION: `'v1'`\n",
        "        - SCENES_DIR: `\"data/scene_datasets/replica\"`\n",
        "        - DATA_PATH: `\"data/datasets/audionav/replica/{version}/{split}/{split}.json.gz\"`\n",
        "  - `get_config()` from `ss_baselines.av_nav.config.default`\n",
        "    - `from habitat import get_config as get_task_config`\n",
        "    - `from habitat.config import Config as CN`\n",
        "    - experiment config\n",
        "      - BASE_TASK_CONFIG_PATH `pointgoal.yaml`\n",
        "      - TRAINER_NAME `\"AVNavTrainer\"`\n",
        "      - ENV_NAME `\"AudioNavRLEnv\"`\n",
        "      - VIDEO_OPTION `[\"disk\", \"tensorboard\"]`\n",
        "      - SENSORS `[\"RGB_SENSOR\", \"DEPTH_SENSOR\"]`\n",
        "      - RL.PPO\n",
        "    - task config\n",
        "      - AUDIOGOAL_SENSOR.TYPE `\"AudioGoalSensor\"`\n",
        "      - SPECTROGRAM_SENSOR.TYPE `\"SpectrogramSensor\"`\n",
        "      - SIMULATOR.SCENE_DATASET `'replica'`\n",
        "      - DATASET.VERSION `'v1'`\n",
        "    - `config.merge_from_file()` from `yacs`\n",
        "\n",
        "  - `baseline_registry()` from `ss_baselines.common.baseline_registry`\n",
        "    - `from habitat.core.registry import Registry`\n",
        "  - `trainer_init()`\n",
        "  - `trainer.train()`\n",
        "  - `trainer.eval()`\n",
        "\n"
      ],
      "metadata": {
        "id": "JEItEj7f5mwj"
      }
    },
    {
      "cell_type": "markdown",
      "source": [
        "## Playground"
      ],
      "metadata": {
        "id": "_BkDKnmTMX_4"
      }
    },
    {
      "cell_type": "code",
      "source": [
        ""
      ],
      "metadata": {
        "id": "FxNmW1V_HdX-"
      },
      "execution_count": null,
      "outputs": []
    }
  ]
}